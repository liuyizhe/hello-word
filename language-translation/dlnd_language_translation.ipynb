{
 "cells": [
  {
   "cell_type": "markdown",
   "metadata": {
    "collapsed": true,
    "deletable": true,
    "editable": true
   },
   "source": [
    "# 语言翻译\n",
    "\n",
    "在此项目中，你将了解神经网络机器翻译这一领域。你将用由英语和法语语句组成的数据集，训练一个序列到序列模型（sequence to sequence model），该模型能够将新的英语句子翻译成法语。\n",
    "\n",
    "## 获取数据\n",
    "\n",
    "因为将整个英语语言内容翻译成法语需要大量训练时间，所以我们提供了一小部分的英语语料库。\n"
   ]
  },
  {
   "cell_type": "code",
   "execution_count": 1,
   "metadata": {
    "collapsed": false,
    "deletable": true,
    "editable": true
   },
   "outputs": [],
   "source": [
    "\"\"\"\n",
    "DON'T MODIFY ANYTHING IN THIS CELL\n",
    "\"\"\"\n",
    "import helper\n",
    "import problem_unittests as tests\n",
    "\n",
    "source_path = 'data/small_vocab_en'\n",
    "target_path = 'data/small_vocab_fr'\n",
    "source_text = helper.load_data(source_path)\n",
    "target_text = helper.load_data(target_path)"
   ]
  },
  {
   "cell_type": "markdown",
   "metadata": {
    "deletable": true,
    "editable": true
   },
   "source": [
    "## 探索数据\n",
    "\n",
    "研究 view_sentence_range，查看并熟悉该数据的不同部分。\n"
   ]
  },
  {
   "cell_type": "code",
   "execution_count": 2,
   "metadata": {
    "collapsed": false,
    "deletable": true,
    "editable": true
   },
   "outputs": [
    {
     "name": "stdout",
     "output_type": "stream",
     "text": [
      "Dataset Stats\n",
      "Roughly the number of unique words: 227\n",
      "Number of sentences: 137861\n",
      "Average number of words in a sentence: 13.225277634719028\n",
      "\n",
      "English sentences 0 to 10:\n",
      "new jersey is sometimes quiet during autumn , and it is snowy in april .\n",
      "the united states is usually chilly during july , and it is usually freezing in november .\n",
      "california is usually quiet during march , and it is usually hot in june .\n",
      "the united states is sometimes mild during june , and it is cold in september .\n",
      "your least liked fruit is the grape , but my least liked is the apple .\n",
      "his favorite fruit is the orange , but my favorite is the grape .\n",
      "paris is relaxing during december , but it is usually chilly in july .\n",
      "new jersey is busy during spring , and it is never hot in march .\n",
      "our least liked fruit is the lemon , but my least liked is the grape .\n",
      "the united states is sometimes busy during january , and it is sometimes warm in november .\n",
      "\n",
      "French sentences 0 to 10:\n",
      "new jersey est parfois calme pendant l' automne , et il est neigeux en avril .\n",
      "les états-unis est généralement froid en juillet , et il gèle habituellement en novembre .\n",
      "california est généralement calme en mars , et il est généralement chaud en juin .\n",
      "les états-unis est parfois légère en juin , et il fait froid en septembre .\n",
      "votre moins aimé fruit est le raisin , mais mon moins aimé est la pomme .\n",
      "son fruit préféré est l'orange , mais mon préféré est le raisin .\n",
      "paris est relaxant en décembre , mais il est généralement froid en juillet .\n",
      "new jersey est occupé au printemps , et il est jamais chaude en mars .\n",
      "notre fruit est moins aimé le citron , mais mon moins aimé est le raisin .\n",
      "les états-unis est parfois occupé en janvier , et il est parfois chaud en novembre .\n"
     ]
    }
   ],
   "source": [
    "view_sentence_range = (0, 10)\n",
    "\n",
    "\"\"\"\n",
    "DON'T MODIFY ANYTHING IN THIS CELL\n",
    "\"\"\"\n",
    "import numpy as np\n",
    "\n",
    "print('Dataset Stats')\n",
    "print('Roughly the number of unique words: {}'.format(len({word: None for word in source_text.split()})))\n",
    "\n",
    "sentences = source_text.split('\\n')\n",
    "word_counts = [len(sentence.split()) for sentence in sentences]\n",
    "print('Number of sentences: {}'.format(len(sentences)))\n",
    "print('Average number of words in a sentence: {}'.format(np.average(word_counts)))\n",
    "\n",
    "print()\n",
    "print('English sentences {} to {}:'.format(*view_sentence_range))\n",
    "print('\\n'.join(source_text.split('\\n')[view_sentence_range[0]:view_sentence_range[1]]))\n",
    "print()\n",
    "print('French sentences {} to {}:'.format(*view_sentence_range))\n",
    "print('\\n'.join(target_text.split('\\n')[view_sentence_range[0]:view_sentence_range[1]]))"
   ]
  },
  {
   "cell_type": "markdown",
   "metadata": {
    "deletable": true,
    "editable": true
   },
   "source": [
    "## 实现预处理函数\n",
    "\n",
    "### 文本到单词 id\n",
    "\n",
    "和之前的 RNN 一样，你必须首先将文本转换为数字，这样计算机才能读懂。在函数 `text_to_ids()` 中，你需要将单词中的 `source_text` 和 `target_text` 转为 id。但是，你需要在 `target_text` 中每个句子的末尾，添加 `<EOS>` 单词 id。这样可以帮助神经网络预测句子应该在什么地方结束。\n",
    "\n",
    "\n",
    "你可以通过以下代码获取  `<EOS> ` 单词ID：\n",
    "\n",
    "```python\n",
    "target_vocab_to_int['<EOS>']\n",
    "```\n",
    "\n",
    "你可以使用 `source_vocab_to_int` 和 `target_vocab_to_int` 获得其他单词 id。\n"
   ]
  },
  {
   "cell_type": "code",
   "execution_count": 3,
   "metadata": {
    "collapsed": false,
    "deletable": true,
    "editable": true
   },
   "outputs": [
    {
     "name": "stdout",
     "output_type": "stream",
     "text": [
      "Tests Passed\n"
     ]
    }
   ],
   "source": [
    "def text_to_ids(source_text, target_text, source_vocab_to_int, target_vocab_to_int):\n",
    "    \"\"\"\n",
    "    Convert source and target text to proper word ids\n",
    "    :param source_text: String that contains all the source text.\n",
    "    :param target_text: String that contains all the target text.\n",
    "    :param source_vocab_to_int: Dictionary to go from the source words to an id\n",
    "    :param target_vocab_to_int: Dictionary to go from the target words to an id\n",
    "    :return: A tuple of lists (source_id_text, target_id_text)\n",
    "    \"\"\"\n",
    "    # TODO: Implement Function\n",
    "    source_id = []\n",
    "    target_id = []\n",
    "    for str_s in source_text.split('\\n'):\n",
    "        str_id = [source_vocab_to_int[each] for each in str_s.split()]\n",
    "        source_id.append(str_id)\n",
    "    for str_s in target_text.split('\\n'):\n",
    "        str_id = [target_vocab_to_int[each] for each in str_s.split()]\n",
    "        str_id.append(target_vocab_to_int['<EOS>'])\n",
    "        target_id.append(str_id)\n",
    "    return source_id, target_id\n",
    "\n",
    "\"\"\"\n",
    "DON'T MODIFY ANYTHING IN THIS CELL THAT IS BELOW THIS LINE\n",
    "\"\"\"\n",
    "tests.test_text_to_ids(text_to_ids)"
   ]
  },
  {
   "cell_type": "markdown",
   "metadata": {
    "deletable": true,
    "editable": true
   },
   "source": [
    "### 预处理所有数据并保存\n",
    "\n",
    "运行以下代码单元，预处理所有数据，并保存到文件中。\n"
   ]
  },
  {
   "cell_type": "code",
   "execution_count": 4,
   "metadata": {
    "collapsed": false,
    "deletable": true,
    "editable": true
   },
   "outputs": [],
   "source": [
    "\"\"\"\n",
    "DON'T MODIFY ANYTHING IN THIS CELL\n",
    "\"\"\"\n",
    "helper.preprocess_and_save_data(source_path, target_path, text_to_ids)"
   ]
  },
  {
   "cell_type": "markdown",
   "metadata": {
    "deletable": true,
    "editable": true
   },
   "source": [
    "# 检查点\n",
    "\n",
    "这是你的第一个检查点。如果你什么时候决定再回到该记事本，或需要重新启动该记事本，可以从这里继续。预处理的数据已保存到磁盘上。"
   ]
  },
  {
   "cell_type": "code",
   "execution_count": 56,
   "metadata": {
    "collapsed": false,
    "deletable": true,
    "editable": true
   },
   "outputs": [],
   "source": [
    "\"\"\"\n",
    "DON'T MODIFY ANYTHING IN THIS CELL\n",
    "\"\"\"\n",
    "import numpy as np\n",
    "import helper\n",
    "\n",
    "(source_int_text, target_int_text), (source_vocab_to_int, target_vocab_to_int), _ = helper.load_preprocess()"
   ]
  },
  {
   "cell_type": "markdown",
   "metadata": {
    "deletable": true,
    "editable": true
   },
   "source": [
    "### 检查 TensorFlow 版本，确认可访问 GPU\n",
    "\n",
    "这一检查步骤，可以确保你使用的是正确版本的 TensorFlow，并且能够访问 GPU。\n"
   ]
  },
  {
   "cell_type": "code",
   "execution_count": 57,
   "metadata": {
    "collapsed": false,
    "deletable": true,
    "editable": true
   },
   "outputs": [
    {
     "name": "stdout",
     "output_type": "stream",
     "text": [
      "TensorFlow Version: 1.0.0\n"
     ]
    },
    {
     "name": "stderr",
     "output_type": "stream",
     "text": [
      "/Users/liuyizhe/anaconda/envs/dlnd-tf-lab/lib/python3.5/site-packages/ipykernel/__main__.py:14: UserWarning: No GPU found. Please use a GPU to train your neural network.\n"
     ]
    }
   ],
   "source": [
    "\"\"\"\n",
    "DON'T MODIFY ANYTHING IN THIS CELL\n",
    "\"\"\"\n",
    "from distutils.version import LooseVersion\n",
    "import warnings\n",
    "import tensorflow as tf\n",
    "\n",
    "# Check TensorFlow Version\n",
    "assert LooseVersion(tf.__version__) in [LooseVersion('1.0.0'), LooseVersion('1.0.1')], 'This project requires TensorFlow version 1.0  You are using {}'.format(tf.__version__)\n",
    "print('TensorFlow Version: {}'.format(tf.__version__))\n",
    "\n",
    "# Check for a GPU\n",
    "if not tf.test.gpu_device_name():\n",
    "    warnings.warn('No GPU found. Please use a GPU to train your neural network.')\n",
    "else:\n",
    "    print('Default GPU Device: {}'.format(tf.test.gpu_device_name()))"
   ]
  },
  {
   "cell_type": "markdown",
   "metadata": {
    "deletable": true,
    "editable": true
   },
   "source": [
    "## 构建神经网络\n",
    "\n",
    "你将通过实现以下函数，构建出要构建一个序列到序列模型所需的组件：\n",
    "\n",
    "- `model_inputs`\n",
    "- `process_decoding_input`\n",
    "- `encoding_layer`\n",
    "- `decoding_layer_train`\n",
    "- `decoding_layer_infer`\n",
    "- `decoding_layer`\n",
    "- `seq2seq_model`\n",
    "\n",
    "### 输入\n",
    "\n",
    "实现 `model_inputs()` 函数，为神经网络创建 TF 占位符。该函数应该创建以下占位符：\n",
    "\n",
    "- 名为 “input” 的输入文本占位符，并使用 TF Placeholder 名称参数（等级（Rank）为 2）。\n",
    "- 目标占位符（等级为 2）。\n",
    "- 学习速率占位符（等级为 0）。\n",
    "- 名为 “keep_prob” 的保留率占位符，并使用 TF Placeholder 名称参数（等级为 0）。\n",
    "\n",
    "在以下元祖（tuple）中返回占位符：（输入、目标、学习速率、保留率）\n"
   ]
  },
  {
   "cell_type": "code",
   "execution_count": 67,
   "metadata": {
    "collapsed": false,
    "deletable": true,
    "editable": true
   },
   "outputs": [
    {
     "name": "stdout",
     "output_type": "stream",
     "text": [
      "Tests Passed\n"
     ]
    }
   ],
   "source": [
    "def model_inputs():\n",
    "    \"\"\"\n",
    "    Create TF Placeholders for input, targets, and learning rate.\n",
    "    :return: Tuple (input, targets, learning rate, keep probability)\n",
    "    \"\"\"\n",
    "    # TODO: Implement Function\n",
    "    input = tf.placeholder(tf.int32,[None,None],name='input')\n",
    "    target = tf.placeholder(tf.int32,[None,None],name='target')\n",
    "    learning_rate = tf.placeholder(tf.float32,name = 'learning_rate')\n",
    "    keep_prob = tf.placeholder(tf.float32,name='keep_prob')\n",
    "    return input, target, learning_rate, keep_prob\n",
    "\n",
    "\"\"\"\n",
    "DON'T MODIFY ANYTHING IN THIS CELL THAT IS BELOW THIS LINE\n",
    "\"\"\"\n",
    "tests.test_model_inputs(model_inputs)"
   ]
  },
  {
   "cell_type": "markdown",
   "metadata": {
    "deletable": true,
    "editable": true
   },
   "source": [
    "### 处理解码输入\n",
    "\n",
    "使用 TensorFlow 实现 `process_decoding_input`，以便删掉 `target_data` 中每个批次的最后一个单词 ID，并将 GO ID 放到每个批次的开头。"
   ]
  },
  {
   "cell_type": "code",
   "execution_count": 68,
   "metadata": {
    "collapsed": false,
    "deletable": true,
    "editable": true
   },
   "outputs": [
    {
     "name": "stdout",
     "output_type": "stream",
     "text": [
      "Tests Passed\n"
     ]
    }
   ],
   "source": [
    "def process_decoding_input(target_data, target_vocab_to_int, batch_size):\n",
    "    \"\"\"\n",
    "    Preprocess target data for dencoding\n",
    "    :param target_data: Target Placehoder\n",
    "    :param target_vocab_to_int: Dictionary to go from the target words to an id\n",
    "    :param batch_size: Batch Size\n",
    "    :return: Preprocessed target data\n",
    "    \"\"\"\n",
    "    # TODO: Implement Function\n",
    "    ending = tf.strided_slice(target_data, [0, 0], [batch_size, -1], [1, 1])\n",
    "    dec_input = tf.concat([tf.fill([batch_size, 1], target_vocab_to_int['<GO>']), ending], 1)\n",
    "    return dec_input\n",
    "\n",
    "\"\"\"\n",
    "DON'T MODIFY ANYTHING IN THIS CELL THAT IS BELOW THIS LINE\n",
    "\"\"\"\n",
    "tests.test_process_decoding_input(process_decoding_input)"
   ]
  },
  {
   "cell_type": "markdown",
   "metadata": {
    "deletable": true,
    "editable": true
   },
   "source": [
    "### 编码\n",
    "\n",
    "实现 `encoding_layer()`，以使用 [`tf.nn.dynamic_rnn()`](https://www.tensorflow.org/api_docs/python/tf/nn/dynamic_rnn) 创建编码器 RNN 层级。"
   ]
  },
  {
   "cell_type": "code",
   "execution_count": 69,
   "metadata": {
    "collapsed": false,
    "deletable": true,
    "editable": true
   },
   "outputs": [
    {
     "name": "stdout",
     "output_type": "stream",
     "text": [
      "Tests Passed\n"
     ]
    }
   ],
   "source": [
    "def encoding_layer(rnn_inputs, rnn_size, num_layers, keep_prob):\n",
    "    \"\"\"\n",
    "    Create encoding layer\n",
    "    :param rnn_inputs: Inputs for the RNN\n",
    "    :param rnn_size: RNN Size\n",
    "    :param num_layers: Number of layers\n",
    "    :param keep_prob: Dropout keep probability\n",
    "    :return: RNN state\n",
    "    \"\"\"\n",
    "    # TODO: Implement Function\n",
    "    cell = tf.contrib.rnn.LSTMCell(rnn_size,\n",
    "                                           initializer=tf.random_uniform_initializer(-0.1, 0.1, seed=2))\n",
    "    \n",
    "    cell = tf.contrib.rnn.DropoutWrapper(\n",
    "        cell, output_keep_prob=keep_prob)\n",
    "    cell = tf.contrib.rnn.MultiRNNCell([cell] * num_layers)\n",
    "    output, state = tf.nn.dynamic_rnn(cell, rnn_inputs, dtype=tf.float32)\n",
    "    \n",
    "    return state\n",
    "\n",
    "\"\"\"\n",
    "DON'T MODIFY ANYTHING IN THIS CELL THAT IS BELOW THIS LINE\n",
    "\"\"\"\n",
    "tests.test_encoding_layer(encoding_layer)"
   ]
  },
  {
   "cell_type": "markdown",
   "metadata": {
    "deletable": true,
    "editable": true
   },
   "source": [
    "### 解码 - 训练\n",
    "\n",
    "使用 [`tf.contrib.seq2seq.simple_decoder_fn_train()`](https://www.tensorflow.org/versions/r1.0/api_docs/python/tf/contrib/seq2seq/simple_decoder_fn_train) 和 [`tf.contrib.seq2seq.dynamic_rnn_decoder()`](https://www.tensorflow.org/versions/r1.0/api_docs/python/tf/contrib/seq2seq/dynamic_rnn_decoder) 创建训练分对数（training logits）。将 `output_fn` 应用到 [`tf.contrib.seq2seq.dynamic_rnn_decoder()`](https://www.tensorflow.org/versions/r1.0/api_docs/python/tf/contrib/seq2seq/dynamic_rnn_decoder) 输出上。"
   ]
  },
  {
   "cell_type": "code",
   "execution_count": 70,
   "metadata": {
    "collapsed": false,
    "deletable": true,
    "editable": true
   },
   "outputs": [
    {
     "name": "stdout",
     "output_type": "stream",
     "text": [
      "Tests Passed\n"
     ]
    }
   ],
   "source": [
    "def decoding_layer_train(encoder_state, dec_cell, dec_embed_input, sequence_length, decoding_scope,\n",
    "                         output_fn, keep_prob):\n",
    "    \"\"\"\n",
    "    Create a decoding layer for training\n",
    "    :param encoder_state: Encoder State\n",
    "    :param dec_cell: Decoder RNN Cell\n",
    "    :param dec_embed_input: Decoder embedded input\n",
    "    :param sequence_length: Sequence Length\n",
    "    :param decoding_scope: TenorFlow Variable Scope for decoding\n",
    "    :param output_fn: Function to apply the output layer\n",
    "    :param keep_prob: Dropout keep probability\n",
    "    :return: Train Logits\n",
    "    \"\"\"\n",
    "    # TODO: Implement Function\n",
    "    dynamic_fn_train = tf.contrib.seq2seq.simple_decoder_fn_train(encoder_state)\n",
    "    outputs, final_state, final_content_state = tf.contrib.seq2seq.dynamic_rnn_decoder(dec_cell, dynamic_fn_train, inputs=dec_embed_input,sequence_length=sequence_length,scope=decoding_scope)\n",
    "    logits = output_fn(outputs)\n",
    "    logits = tf.nn.dropout(logits,keep_prob)\n",
    "    return logits\n",
    "\n",
    "\n",
    "\"\"\"\n",
    "DON'T MODIFY ANYTHING IN THIS CELL THAT IS BELOW THIS LINE\n",
    "\"\"\"\n",
    "tests.test_decoding_layer_train(decoding_layer_train)"
   ]
  },
  {
   "cell_type": "markdown",
   "metadata": {
    "deletable": true,
    "editable": true
   },
   "source": [
    "### 解码 - 推论\n",
    "\n",
    "使用 [`tf.contrib.seq2seq.simple_decoder_fn_inference()`](https://www.tensorflow.org/versions/r1.0/api_docs/python/tf/contrib/seq2seq/simple_decoder_fn_inference) 和 [`tf.contrib.seq2seq.dynamic_rnn_decoder()`](https://www.tensorflow.org/versions/r1.0/api_docs/python/tf/contrib/seq2seq/dynamic_rnn_decoder) 创建推论分对数（inference logits）。"
   ]
  },
  {
   "cell_type": "code",
   "execution_count": 71,
   "metadata": {
    "collapsed": false,
    "deletable": true,
    "editable": true
   },
   "outputs": [
    {
     "name": "stdout",
     "output_type": "stream",
     "text": [
      "Tests Passed\n"
     ]
    }
   ],
   "source": [
    "def decoding_layer_infer(encoder_state, dec_cell, dec_embeddings, start_of_sequence_id, end_of_sequence_id,\n",
    "                         maximum_length, vocab_size, decoding_scope, output_fn, keep_prob):\n",
    "    \"\"\"\n",
    "    Create a decoding layer for inference\n",
    "    :param encoder_state: Encoder state\n",
    "    :param dec_cell: Decoder RNN Cell\n",
    "    :param dec_embeddings: Decoder embeddings\n",
    "    :param start_of_sequence_id: GO ID\n",
    "    :param end_of_sequence_id: EOS Id\n",
    "    :param maximum_length: The maximum allowed time steps to decode\n",
    "    :param vocab_size: Size of vocabulary\n",
    "    :param decoding_scope: TensorFlow Variable Scope for decoding\n",
    "    :param output_fn: Function to apply the output layer\n",
    "    :param keep_prob: Dropout keep probability\n",
    "    :return: Inference Logits\n",
    "    \"\"\"\n",
    "    # TODO: Implement Function\n",
    "    dynamic_fn_inference = tf.contrib.seq2seq.simple_decoder_fn_inference(output_fn,encoder_state, dec_embeddings,\n",
    "                                                                         start_of_sequence_id,end_of_sequence_id,\n",
    "                                                                          maximum_length,\n",
    "                                                                           vocab_size)\n",
    "    inference_logits, _, _  = tf.contrib.seq2seq.dynamic_rnn_decoder(dec_cell, dynamic_fn_inference,scope=decoding_scope)\n",
    "    logits = tf.nn.dropout(inference_logits,keep_prob)\n",
    "    \n",
    "    return logits\n",
    "\n",
    "\n",
    "\"\"\"\n",
    "DON'T MODIFY ANYTHING IN THIS CELL THAT IS BELOW THIS LINE\n",
    "\"\"\"\n",
    "tests.test_decoding_layer_infer(decoding_layer_infer)"
   ]
  },
  {
   "cell_type": "markdown",
   "metadata": {
    "deletable": true,
    "editable": true
   },
   "source": [
    "### 构建解码层级\n",
    "\n",
    "实现 `decoding_layer()` 以创建解码器 RNN 层级。\n",
    "\n",
    "- 使用 `rnn_size` 和 `num_layers` 创建解码 RNN 单元。\n",
    "- 使用 [`lambda`](https://docs.python.org/3/tutorial/controlflow.html#lambda-expressions) 创建输出函数，将输入，也就是分对数转换为类分对数（class logits）。\n",
    "- 使用 `decoding_layer_train(encoder_state, dec_cell, dec_embed_input, sequence_length, decoding_scope, output_fn, keep_prob)` 函数获取训练分对数。\n",
    "- 使用 `decoding_layer_infer(encoder_state, dec_cell, dec_embeddings, start_of_sequence_id, end_of_sequence_id, maximum_length, vocab_size, decoding_scope, output_fn, keep_prob)` 函数获取推论分对数。\n",
    "\n",
    "注意：你将需要使用 [tf.variable_scope](https://www.tensorflow.org/api_docs/python/tf/variable_scope) 在训练和推论分对数间分享变量。"
   ]
  },
  {
   "cell_type": "code",
   "execution_count": 72,
   "metadata": {
    "collapsed": false,
    "deletable": true,
    "editable": true
   },
   "outputs": [
    {
     "name": "stdout",
     "output_type": "stream",
     "text": [
      "Tests Passed\n"
     ]
    }
   ],
   "source": [
    "def decoding_layer(dec_embed_input, dec_embeddings, encoder_state, vocab_size, sequence_length, rnn_size,\n",
    "                   num_layers, target_vocab_to_int, keep_prob):\n",
    "    \"\"\"\n",
    "    Create decoding layer\n",
    "    :param dec_embed_input: Decoder embedded input\n",
    "    :param dec_embeddings: Decoder embeddings\n",
    "    :param encoder_state: The encoded state\n",
    "    :param vocab_size: Size of vocabulary\n",
    "    :param sequence_length: Sequence Length\n",
    "    :param rnn_size: RNN Size\n",
    "    :param num_layers: Number of layers\n",
    "    :param target_vocab_to_int: Dictionary to go from the target words to an id\n",
    "    :param keep_prob: Dropout keep probability\n",
    "    :return: Tuple of (Training Logits, Inference Logits)\n",
    "    \"\"\"\n",
    "    # TODO: Implement Function\n",
    "    with tf.variable_scope(\"decoding\") as decoding_scope:\n",
    "        cell = tf.contrib.rnn.LSTMCell(rnn_size,initializer=tf.random_uniform_initializer(-0.1,0.1,seed=2))\n",
    "        cell = tf.contrib.rnn.DropoutWrapper(\n",
    "            cell, output_keep_prob=keep_prob)\n",
    "        cell = tf.contrib.rnn.MultiRNNCell([cell] * num_layers)\n",
    "        output_fn = lambda x:tf.contrib.layers.fully_connected(x,vocab_size,None,scope=decoding_scope)\n",
    "        train_logits = decoding_layer_train(encoder_state, cell,dec_embed_input,sequence_length,decoding_scope,output_fn,keep_prob)\n",
    "        decoding_scope.reuse_variables()\n",
    "        infer_logits = decoding_layer_infer(encoder_state, cell, dec_embeddings,target_vocab_to_int['<GO>'],target_vocab_to_int['<EOS>'],\n",
    "                                           sequence_length,vocab_size,decoding_scope,output_fn,keep_prob)\n",
    "        \n",
    "\n",
    "    return train_logits, infer_logits\n",
    "\n",
    "\n",
    "\"\"\"\n",
    "DON'T MODIFY ANYTHING IN THIS CELL THAT IS BELOW THIS LINE\n",
    "\"\"\"\n",
    "tests.test_decoding_layer(decoding_layer)"
   ]
  },
  {
   "cell_type": "markdown",
   "metadata": {
    "deletable": true,
    "editable": true
   },
   "source": [
    "### 构建神经网络\n",
    "\n",
    "应用你在上方实现的函数，以：\n",
    "\n",
    "- 向编码器的输入数据应用嵌入。\n",
    "- 使用 `encoding_layer(rnn_inputs, rnn_size, num_layers, keep_prob)` 编码输入。\n",
    "- 使用 `process_decoding_input(target_data, target_vocab_to_int, batch_size)` 函数处理目标数据。\n",
    "- 向解码器的目标数据应用嵌入。\n",
    "- 使用 `decoding_layer(dec_embed_input, dec_embeddings, encoder_state, vocab_size, sequence_length, rnn_size, num_layers, target_vocab_to_int, keep_prob)` 解码编码的输入数据。"
   ]
  },
  {
   "cell_type": "code",
   "execution_count": 73,
   "metadata": {
    "collapsed": false,
    "deletable": true,
    "editable": true
   },
   "outputs": [
    {
     "name": "stdout",
     "output_type": "stream",
     "text": [
      "Tests Passed\n"
     ]
    }
   ],
   "source": [
    "def seq2seq_model(input_data, target_data, keep_prob, batch_size, sequence_length, source_vocab_size, target_vocab_size,\n",
    "                  enc_embedding_size, dec_embedding_size, rnn_size, num_layers, target_vocab_to_int):\n",
    "    \"\"\"\n",
    "    Build the Sequence-to-Sequence part of the neural network\n",
    "    :param input_data: Input placeholder\n",
    "    :param target_data: Target placeholder\n",
    "    :param keep_prob: Dropout keep probability placeholder\n",
    "    :param batch_size: Batch Size\n",
    "    :param sequence_length: Sequence Length\n",
    "    :param source_vocab_size: Source vocabulary size\n",
    "    :param target_vocab_size: Target vocabulary size\n",
    "    :param enc_embedding_size: Decoder embedding size\n",
    "    :param dec_embedding_size: Encoder embedding size\n",
    "    :param rnn_size: RNN Size\n",
    "    :param num_layers: Number of layers\n",
    "    :param target_vocab_to_int: Dictionary to go from the target words to an id\n",
    "    :return: Tuple of (Training Logits, Inference Logits)\n",
    "    \"\"\"\n",
    "    # TODO: Implement Function\n",
    "    enc_embed_input = tf.contrib.layers.embed_sequence(input_data, source_vocab_size, enc_embedding_size)\n",
    "\n",
    "    enc_state = encoding_layer(enc_embed_input, rnn_size, num_layers, keep_prob)\n",
    "    dec_input = process_decoding_input(target_data, target_vocab_to_int, batch_size)\n",
    "    dec_embeddings = tf.Variable(tf.random_uniform([target_vocab_size, dec_embedding_size]))\n",
    "    dec_embed_input = tf.nn.embedding_lookup(dec_embeddings, dec_input) \n",
    "    train_logits, infer_logits = decoding_layer(dec_embed_input, dec_embeddings, \n",
    "                                                       enc_state, target_vocab_size, sequence_length,\n",
    "                                                       rnn_size, num_layers, target_vocab_to_int, keep_prob)\n",
    "    return train_logits, infer_logits \n",
    "\n",
    "\n",
    "\"\"\"\n",
    "DON'T MODIFY ANYTHING IN THIS CELL THAT IS BELOW THIS LINE\n",
    "\"\"\"\n",
    "tests.test_seq2seq_model(seq2seq_model)"
   ]
  },
  {
   "cell_type": "markdown",
   "metadata": {
    "deletable": true,
    "editable": true
   },
   "source": [
    "## 训练神经网络\n",
    "\n",
    "### 超参数\n",
    "\n",
    "调试以下参数：\n",
    "\n",
    "- 将 `epochs` 设为 epoch 次数。\n",
    "- 将 `batch_size` 设为批次大小。\n",
    "- 将 `rnn_size` 设为 RNN 的大小。\n",
    "- 将 `num_layers` 设为层级数量。\n",
    "- 将 `encoding_embedding_size` 设为编码器嵌入大小。\n",
    "- 将 `decoding_embedding_size` 设为解码器嵌入大小\n",
    "- 将 `learning_rate` 设为训练速率。\n",
    "- 将 `keep_probability` 设为丢弃保留率（Dropout keep probability）。"
   ]
  },
  {
   "cell_type": "code",
   "execution_count": 86,
   "metadata": {
    "collapsed": true,
    "deletable": true,
    "editable": true
   },
   "outputs": [],
   "source": [
    "# Number of Epochs\n",
    "epochs = 2\n",
    "# Batch Size\n",
    "batch_size = 512\n",
    "# RNN Size\n",
    "rnn_size = 256\n",
    "# Number of Layers\n",
    "num_layers = 1\n",
    "# Embedding Size\n",
    "encoding_embedding_size = 200\n",
    "decoding_embedding_size = 10\n",
    "# Learning Rate\n",
    "learning_rate = 0.01\n",
    "# Dropout Keep Probability\n",
    "keep_probability = 0.8"
   ]
  },
  {
   "cell_type": "markdown",
   "metadata": {
    "deletable": true,
    "editable": true
   },
   "source": [
    "### 构建图表\n",
    "\n",
    "使用你实现的神经网络构建图表。"
   ]
  },
  {
   "cell_type": "code",
   "execution_count": 87,
   "metadata": {
    "collapsed": false,
    "deletable": true,
    "editable": true
   },
   "outputs": [],
   "source": [
    "\"\"\"\n",
    "DON'T MODIFY ANYTHING IN THIS CELL\n",
    "\"\"\"\n",
    "save_path = 'checkpoints/dev'\n",
    "(source_int_text, target_int_text), (source_vocab_to_int, target_vocab_to_int), _ = helper.load_preprocess()\n",
    "max_source_sentence_length = max([len(sentence) for sentence in source_int_text])\n",
    "\n",
    "train_graph = tf.Graph()\n",
    "with train_graph.as_default():\n",
    "    input_data, targets, lr, keep_prob = model_inputs()\n",
    "    sequence_length = tf.placeholder_with_default(max_source_sentence_length, None, name='sequence_length')\n",
    "    input_shape = tf.shape(input_data)\n",
    "    \n",
    "    train_logits, inference_logits = seq2seq_model(\n",
    "        tf.reverse(input_data, [-1]), targets, keep_prob, batch_size, sequence_length, len(source_vocab_to_int), len(target_vocab_to_int),\n",
    "        encoding_embedding_size, decoding_embedding_size, rnn_size, num_layers, target_vocab_to_int)\n",
    "\n",
    "    tf.identity(inference_logits, 'logits')\n",
    "    with tf.name_scope(\"optimization\"):\n",
    "        # Loss function\n",
    "        cost = tf.contrib.seq2seq.sequence_loss(\n",
    "            train_logits,\n",
    "            targets,\n",
    "            tf.ones([input_shape[0], sequence_length]))\n",
    "\n",
    "        # Optimizer\n",
    "        optimizer = tf.train.AdamOptimizer(lr)\n",
    "\n",
    "        # Gradient Clipping\n",
    "        gradients = optimizer.compute_gradients(cost)\n",
    "        capped_gradients = [(tf.clip_by_value(grad, -1., 1.), var) for grad, var in gradients if grad is not None]\n",
    "        train_op = optimizer.apply_gradients(capped_gradients)"
   ]
  },
  {
   "cell_type": "markdown",
   "metadata": {
    "deletable": true,
    "editable": true
   },
   "source": [
    "### 训练\n",
    "\n",
    "利用预处理的数据训练神经网络。如果很难获得低损失值，请访问我们的论坛，看看其他人是否遇到了相同的问题。"
   ]
  },
  {
   "cell_type": "code",
   "execution_count": 88,
   "metadata": {
    "collapsed": false,
    "deletable": true,
    "editable": true,
    "scrolled": true
   },
   "outputs": [
    {
     "name": "stdout",
     "output_type": "stream",
     "text": [
      "Epoch   0 Batch    0/269 - Train Accuracy:  0.245, Validation Accuracy:  0.313, Loss:  5.870\n",
      "Epoch   0 Batch    1/269 - Train Accuracy:  0.275, Validation Accuracy:  0.347, Loss:  4.644\n",
      "Epoch   0 Batch    2/269 - Train Accuracy:  0.297, Validation Accuracy:  0.340, Loss:  4.065\n",
      "Epoch   0 Batch    3/269 - Train Accuracy:  0.166, Validation Accuracy:  0.242, Loss:  4.317\n",
      "Epoch   0 Batch    4/269 - Train Accuracy:  0.254, Validation Accuracy:  0.322, Loss:  4.466\n",
      "Epoch   0 Batch    5/269 - Train Accuracy:  0.278, Validation Accuracy:  0.348, Loss:  4.166\n",
      "Epoch   0 Batch    6/269 - Train Accuracy:  0.316, Validation Accuracy:  0.346, Loss:  3.845\n",
      "Epoch   0 Batch    7/269 - Train Accuracy:  0.350, Validation Accuracy:  0.381, Loss:  3.857\n",
      "Epoch   0 Batch    8/269 - Train Accuracy:  0.328, Validation Accuracy:  0.387, Loss:  3.916\n",
      "Epoch   0 Batch    9/269 - Train Accuracy:  0.325, Validation Accuracy:  0.364, Loss:  3.755\n",
      "Epoch   0 Batch   10/269 - Train Accuracy:  0.322, Validation Accuracy:  0.386, Loss:  3.798\n",
      "Epoch   0 Batch   11/269 - Train Accuracy:  0.349, Validation Accuracy:  0.382, Loss:  3.608\n",
      "Epoch   0 Batch   12/269 - Train Accuracy:  0.330, Validation Accuracy:  0.387, Loss:  3.713\n",
      "Epoch   0 Batch   13/269 - Train Accuracy:  0.389, Validation Accuracy:  0.386, Loss:  3.430\n",
      "Epoch   0 Batch   14/269 - Train Accuracy:  0.369, Validation Accuracy:  0.401, Loss:  3.544\n",
      "Epoch   0 Batch   15/269 - Train Accuracy:  0.370, Validation Accuracy:  0.410, Loss:  3.506\n",
      "Epoch   0 Batch   16/269 - Train Accuracy:  0.379, Validation Accuracy:  0.406, Loss:  3.407\n",
      "Epoch   0 Batch   17/269 - Train Accuracy:  0.372, Validation Accuracy:  0.407, Loss:  3.391\n",
      "Epoch   0 Batch   18/269 - Train Accuracy:  0.364, Validation Accuracy:  0.421, Loss:  3.418\n",
      "Epoch   0 Batch   19/269 - Train Accuracy:  0.423, Validation Accuracy:  0.426, Loss:  3.219\n",
      "Epoch   0 Batch   20/269 - Train Accuracy:  0.360, Validation Accuracy:  0.416, Loss:  3.333\n",
      "Epoch   0 Batch   21/269 - Train Accuracy:  0.386, Validation Accuracy:  0.439, Loss:  3.353\n",
      "Epoch   0 Batch   22/269 - Train Accuracy:  0.410, Validation Accuracy:  0.431, Loss:  3.176\n",
      "Epoch   0 Batch   23/269 - Train Accuracy:  0.435, Validation Accuracy:  0.451, Loss:  3.174\n",
      "Epoch   0 Batch   24/269 - Train Accuracy:  0.374, Validation Accuracy:  0.436, Loss:  3.203\n",
      "Epoch   0 Batch   25/269 - Train Accuracy:  0.404, Validation Accuracy:  0.455, Loss:  3.250\n",
      "Epoch   0 Batch   26/269 - Train Accuracy:  0.471, Validation Accuracy:  0.463, Loss:  2.962\n",
      "Epoch   0 Batch   27/269 - Train Accuracy:  0.419, Validation Accuracy:  0.447, Loss:  3.063\n",
      "Epoch   0 Batch   28/269 - Train Accuracy:  0.378, Validation Accuracy:  0.452, Loss:  3.153\n",
      "Epoch   0 Batch   29/269 - Train Accuracy:  0.420, Validation Accuracy:  0.472, Loss:  3.081\n",
      "Epoch   0 Batch   30/269 - Train Accuracy:  0.442, Validation Accuracy:  0.470, Loss:  2.933\n",
      "Epoch   0 Batch   31/269 - Train Accuracy:  0.440, Validation Accuracy:  0.461, Loss:  2.913\n",
      "Epoch   0 Batch   32/269 - Train Accuracy:  0.454, Validation Accuracy:  0.487, Loss:  2.887\n",
      "Epoch   0 Batch   33/269 - Train Accuracy:  0.472, Validation Accuracy:  0.489, Loss:  2.782\n",
      "Epoch   0 Batch   34/269 - Train Accuracy:  0.465, Validation Accuracy:  0.487, Loss:  2.769\n",
      "Epoch   0 Batch   35/269 - Train Accuracy:  0.508, Validation Accuracy:  0.518, Loss:  2.713\n",
      "Epoch   0 Batch   36/269 - Train Accuracy:  0.502, Validation Accuracy:  0.526, Loss:  2.741\n",
      "Epoch   0 Batch   37/269 - Train Accuracy:  0.474, Validation Accuracy:  0.503, Loss:  2.726\n",
      "Epoch   0 Batch   38/269 - Train Accuracy:  0.514, Validation Accuracy:  0.541, Loss:  2.665\n",
      "Epoch   0 Batch   39/269 - Train Accuracy:  0.527, Validation Accuracy:  0.541, Loss:  2.603\n",
      "Epoch   0 Batch   40/269 - Train Accuracy:  0.478, Validation Accuracy:  0.518, Loss:  2.668\n",
      "Epoch   0 Batch   41/269 - Train Accuracy:  0.513, Validation Accuracy:  0.537, Loss:  2.575\n",
      "Epoch   0 Batch   42/269 - Train Accuracy:  0.547, Validation Accuracy:  0.540, Loss:  2.438\n",
      "Epoch   0 Batch   43/269 - Train Accuracy:  0.487, Validation Accuracy:  0.523, Loss:  2.539\n",
      "Epoch   0 Batch   44/269 - Train Accuracy:  0.499, Validation Accuracy:  0.516, Loss:  2.420\n",
      "Epoch   0 Batch   45/269 - Train Accuracy:  0.513, Validation Accuracy:  0.549, Loss:  2.513\n",
      "Epoch   0 Batch   46/269 - Train Accuracy:  0.512, Validation Accuracy:  0.544, Loss:  2.441\n",
      "Epoch   0 Batch   47/269 - Train Accuracy:  0.543, Validation Accuracy:  0.537, Loss:  2.259\n",
      "Epoch   0 Batch   48/269 - Train Accuracy:  0.545, Validation Accuracy:  0.550, Loss:  2.233\n",
      "Epoch   0 Batch   49/269 - Train Accuracy:  0.520, Validation Accuracy:  0.550, Loss:  2.277\n",
      "Epoch   0 Batch   50/269 - Train Accuracy:  0.481, Validation Accuracy:  0.526, Loss:  2.268\n",
      "Epoch   0 Batch   51/269 - Train Accuracy:  0.501, Validation Accuracy:  0.526, Loss:  2.209\n",
      "Epoch   0 Batch   52/269 - Train Accuracy:  0.513, Validation Accuracy:  0.531, Loss:  2.083\n",
      "Epoch   0 Batch   53/269 - Train Accuracy:  0.475, Validation Accuracy:  0.522, Loss:  2.129\n",
      "Epoch   0 Batch   54/269 - Train Accuracy:  0.483, Validation Accuracy:  0.520, Loss:  2.084\n",
      "Epoch   0 Batch   55/269 - Train Accuracy:  0.531, Validation Accuracy:  0.544, Loss:  2.012\n",
      "Epoch   0 Batch   56/269 - Train Accuracy:  0.535, Validation Accuracy:  0.546, Loss:  1.997\n",
      "Epoch   0 Batch   57/269 - Train Accuracy:  0.519, Validation Accuracy:  0.532, Loss:  1.972\n",
      "Epoch   0 Batch   58/269 - Train Accuracy:  0.544, Validation Accuracy:  0.554, Loss:  1.937\n",
      "Epoch   0 Batch   59/269 - Train Accuracy:  0.562, Validation Accuracy:  0.559, Loss:  1.846\n",
      "Epoch   0 Batch   60/269 - Train Accuracy:  0.548, Validation Accuracy:  0.555, Loss:  1.860\n",
      "Epoch   0 Batch   61/269 - Train Accuracy:  0.557, Validation Accuracy:  0.554, Loss:  1.818\n",
      "Epoch   0 Batch   62/269 - Train Accuracy:  0.579, Validation Accuracy:  0.558, Loss:  1.810\n",
      "Epoch   0 Batch   63/269 - Train Accuracy:  0.563, Validation Accuracy:  0.570, Loss:  1.817\n",
      "Epoch   0 Batch   64/269 - Train Accuracy:  0.552, Validation Accuracy:  0.562, Loss:  1.805\n",
      "Epoch   0 Batch   65/269 - Train Accuracy:  0.544, Validation Accuracy:  0.566, Loss:  1.794\n",
      "Epoch   0 Batch   66/269 - Train Accuracy:  0.570, Validation Accuracy:  0.565, Loss:  1.713\n",
      "Epoch   0 Batch   67/269 - Train Accuracy:  0.552, Validation Accuracy:  0.562, Loss:  1.784\n",
      "Epoch   0 Batch   68/269 - Train Accuracy:  0.547, Validation Accuracy:  0.566, Loss:  1.772\n",
      "Epoch   0 Batch   69/269 - Train Accuracy:  0.523, Validation Accuracy:  0.567, Loss:  1.854\n",
      "Epoch   0 Batch   70/269 - Train Accuracy:  0.561, Validation Accuracy:  0.563, Loss:  1.721\n",
      "Epoch   0 Batch   71/269 - Train Accuracy:  0.539, Validation Accuracy:  0.564, Loss:  1.747\n",
      "Epoch   0 Batch   72/269 - Train Accuracy:  0.578, Validation Accuracy:  0.578, Loss:  1.685\n",
      "Epoch   0 Batch   73/269 - Train Accuracy:  0.573, Validation Accuracy:  0.576, Loss:  1.715\n",
      "Epoch   0 Batch   74/269 - Train Accuracy:  0.550, Validation Accuracy:  0.566, Loss:  1.716\n",
      "Epoch   0 Batch   75/269 - Train Accuracy:  0.553, Validation Accuracy:  0.565, Loss:  1.654\n",
      "Epoch   0 Batch   76/269 - Train Accuracy:  0.552, Validation Accuracy:  0.563, Loss:  1.688\n",
      "Epoch   0 Batch   77/269 - Train Accuracy:  0.583, Validation Accuracy:  0.579, Loss:  1.645\n",
      "Epoch   0 Batch   78/269 - Train Accuracy:  0.596, Validation Accuracy:  0.592, Loss:  1.638\n",
      "Epoch   0 Batch   79/269 - Train Accuracy:  0.594, Validation Accuracy:  0.572, Loss:  1.611\n",
      "Epoch   0 Batch   80/269 - Train Accuracy:  0.582, Validation Accuracy:  0.574, Loss:  1.596\n",
      "Epoch   0 Batch   81/269 - Train Accuracy:  0.582, Validation Accuracy:  0.576, Loss:  1.628\n",
      "Epoch   0 Batch   82/269 - Train Accuracy:  0.593, Validation Accuracy:  0.579, Loss:  1.585\n",
      "Epoch   0 Batch   83/269 - Train Accuracy:  0.575, Validation Accuracy:  0.576, Loss:  1.592\n",
      "Epoch   0 Batch   84/269 - Train Accuracy:  0.573, Validation Accuracy:  0.577, Loss:  1.590\n",
      "Epoch   0 Batch   85/269 - Train Accuracy:  0.583, Validation Accuracy:  0.589, Loss:  1.601\n",
      "Epoch   0 Batch   86/269 - Train Accuracy:  0.582, Validation Accuracy:  0.591, Loss:  1.584\n",
      "Epoch   0 Batch   87/269 - Train Accuracy:  0.588, Validation Accuracy:  0.596, Loss:  1.633\n",
      "Epoch   0 Batch   88/269 - Train Accuracy:  0.587, Validation Accuracy:  0.607, Loss:  1.565\n",
      "Epoch   0 Batch   89/269 - Train Accuracy:  0.592, Validation Accuracy:  0.600, Loss:  1.563\n",
      "Epoch   0 Batch   90/269 - Train Accuracy:  0.564, Validation Accuracy:  0.602, Loss:  1.619\n",
      "Epoch   0 Batch   91/269 - Train Accuracy:  0.608, Validation Accuracy:  0.606, Loss:  1.545\n",
      "Epoch   0 Batch   92/269 - Train Accuracy:  0.620, Validation Accuracy:  0.621, Loss:  1.577\n",
      "Epoch   0 Batch   93/269 - Train Accuracy:  0.636, Validation Accuracy:  0.629, Loss:  1.520\n",
      "Epoch   0 Batch   94/269 - Train Accuracy:  0.617, Validation Accuracy:  0.616, Loss:  1.563\n",
      "Epoch   0 Batch   95/269 - Train Accuracy:  0.598, Validation Accuracy:  0.605, Loss:  1.529\n",
      "Epoch   0 Batch   96/269 - Train Accuracy:  0.610, Validation Accuracy:  0.616, Loss:  1.525\n",
      "Epoch   0 Batch   97/269 - Train Accuracy:  0.610, Validation Accuracy:  0.627, Loss:  1.535\n",
      "Epoch   0 Batch   98/269 - Train Accuracy:  0.636, Validation Accuracy:  0.627, Loss:  1.509\n",
      "Epoch   0 Batch   99/269 - Train Accuracy:  0.615, Validation Accuracy:  0.636, Loss:  1.510\n",
      "Epoch   0 Batch  100/269 - Train Accuracy:  0.643, Validation Accuracy:  0.631, Loss:  1.449\n",
      "Epoch   0 Batch  101/269 - Train Accuracy:  0.608, Validation Accuracy:  0.629, Loss:  1.531\n",
      "Epoch   0 Batch  102/269 - Train Accuracy:  0.621, Validation Accuracy:  0.634, Loss:  1.508\n",
      "Epoch   0 Batch  103/269 - Train Accuracy:  0.636, Validation Accuracy:  0.630, Loss:  1.505\n",
      "Epoch   0 Batch  104/269 - Train Accuracy:  0.630, Validation Accuracy:  0.632, Loss:  1.484\n",
      "Epoch   0 Batch  105/269 - Train Accuracy:  0.626, Validation Accuracy:  0.632, Loss:  1.448\n",
      "Epoch   0 Batch  106/269 - Train Accuracy:  0.626, Validation Accuracy:  0.635, Loss:  1.504\n",
      "Epoch   0 Batch  107/269 - Train Accuracy:  0.621, Validation Accuracy:  0.637, Loss:  1.510\n",
      "Epoch   0 Batch  108/269 - Train Accuracy:  0.637, Validation Accuracy:  0.646, Loss:  1.464\n",
      "Epoch   0 Batch  109/269 - Train Accuracy:  0.625, Validation Accuracy:  0.648, Loss:  1.466\n",
      "Epoch   0 Batch  110/269 - Train Accuracy:  0.660, Validation Accuracy:  0.661, Loss:  1.486\n",
      "Epoch   0 Batch  111/269 - Train Accuracy:  0.638, Validation Accuracy:  0.668, Loss:  1.506\n",
      "Epoch   0 Batch  112/269 - Train Accuracy:  0.640, Validation Accuracy:  0.647, Loss:  1.437\n",
      "Epoch   0 Batch  113/269 - Train Accuracy:  0.642, Validation Accuracy:  0.643, Loss:  1.446\n",
      "Epoch   0 Batch  114/269 - Train Accuracy:  0.646, Validation Accuracy:  0.638, Loss:  1.472\n",
      "Epoch   0 Batch  115/269 - Train Accuracy:  0.631, Validation Accuracy:  0.652, Loss:  1.481\n",
      "Epoch   0 Batch  116/269 - Train Accuracy:  0.668, Validation Accuracy:  0.676, Loss:  1.440\n",
      "Epoch   0 Batch  117/269 - Train Accuracy:  0.661, Validation Accuracy:  0.675, Loss:  1.445\n",
      "Epoch   0 Batch  118/269 - Train Accuracy:  0.686, Validation Accuracy:  0.670, Loss:  1.449\n",
      "Epoch   0 Batch  119/269 - Train Accuracy:  0.656, Validation Accuracy:  0.674, Loss:  1.462\n",
      "Epoch   0 Batch  120/269 - Train Accuracy:  0.655, Validation Accuracy:  0.679, Loss:  1.474\n",
      "Epoch   0 Batch  121/269 - Train Accuracy:  0.667, Validation Accuracy:  0.672, Loss:  1.404\n",
      "Epoch   0 Batch  122/269 - Train Accuracy:  0.672, Validation Accuracy:  0.668, Loss:  1.419\n",
      "Epoch   0 Batch  123/269 - Train Accuracy:  0.662, Validation Accuracy:  0.675, Loss:  1.468\n",
      "Epoch   0 Batch  124/269 - Train Accuracy:  0.672, Validation Accuracy:  0.671, Loss:  1.411\n",
      "Epoch   0 Batch  125/269 - Train Accuracy:  0.676, Validation Accuracy:  0.667, Loss:  1.407\n",
      "Epoch   0 Batch  126/269 - Train Accuracy:  0.665, Validation Accuracy:  0.669, Loss:  1.403\n",
      "Epoch   0 Batch  127/269 - Train Accuracy:  0.662, Validation Accuracy:  0.676, Loss:  1.452\n",
      "Epoch   0 Batch  128/269 - Train Accuracy:  0.683, Validation Accuracy:  0.678, Loss:  1.363\n",
      "Epoch   0 Batch  129/269 - Train Accuracy:  0.670, Validation Accuracy:  0.686, Loss:  1.399\n",
      "Epoch   0 Batch  130/269 - Train Accuracy:  0.656, Validation Accuracy:  0.680, Loss:  1.416\n",
      "Epoch   0 Batch  131/269 - Train Accuracy:  0.655, Validation Accuracy:  0.674, Loss:  1.383\n",
      "Epoch   0 Batch  132/269 - Train Accuracy:  0.667, Validation Accuracy:  0.681, Loss:  1.395\n",
      "Epoch   0 Batch  133/269 - Train Accuracy:  0.689, Validation Accuracy:  0.676, Loss:  1.347\n",
      "Epoch   0 Batch  134/269 - Train Accuracy:  0.671, Validation Accuracy:  0.690, Loss:  1.396\n",
      "Epoch   0 Batch  135/269 - Train Accuracy:  0.669, Validation Accuracy:  0.680, Loss:  1.437\n",
      "Epoch   0 Batch  136/269 - Train Accuracy:  0.662, Validation Accuracy:  0.699, Loss:  1.407\n",
      "Epoch   0 Batch  137/269 - Train Accuracy:  0.677, Validation Accuracy:  0.700, Loss:  1.366\n",
      "Epoch   0 Batch  138/269 - Train Accuracy:  0.677, Validation Accuracy:  0.686, Loss:  1.401\n",
      "Epoch   0 Batch  139/269 - Train Accuracy:  0.695, Validation Accuracy:  0.696, Loss:  1.382\n",
      "Epoch   0 Batch  140/269 - Train Accuracy:  0.701, Validation Accuracy:  0.713, Loss:  1.359\n",
      "Epoch   0 Batch  141/269 - Train Accuracy:  0.694, Validation Accuracy:  0.705, Loss:  1.407\n",
      "Epoch   0 Batch  142/269 - Train Accuracy:  0.697, Validation Accuracy:  0.712, Loss:  1.363\n",
      "Epoch   0 Batch  143/269 - Train Accuracy:  0.688, Validation Accuracy:  0.709, Loss:  1.366\n",
      "Epoch   0 Batch  144/269 - Train Accuracy:  0.708, Validation Accuracy:  0.708, Loss:  1.332\n",
      "Epoch   0 Batch  145/269 - Train Accuracy:  0.702, Validation Accuracy:  0.705, Loss:  1.339\n",
      "Epoch   0 Batch  146/269 - Train Accuracy:  0.699, Validation Accuracy:  0.702, Loss:  1.338\n",
      "Epoch   0 Batch  147/269 - Train Accuracy:  0.707, Validation Accuracy:  0.710, Loss:  1.324\n",
      "Epoch   0 Batch  148/269 - Train Accuracy:  0.689, Validation Accuracy:  0.710, Loss:  1.373\n",
      "Epoch   0 Batch  149/269 - Train Accuracy:  0.708, Validation Accuracy:  0.722, Loss:  1.332\n",
      "Epoch   0 Batch  150/269 - Train Accuracy:  0.710, Validation Accuracy:  0.723, Loss:  1.355\n",
      "Epoch   0 Batch  151/269 - Train Accuracy:  0.726, Validation Accuracy:  0.722, Loss:  1.289\n",
      "Epoch   0 Batch  152/269 - Train Accuracy:  0.715, Validation Accuracy:  0.722, Loss:  1.293\n",
      "Epoch   0 Batch  153/269 - Train Accuracy:  0.698, Validation Accuracy:  0.710, Loss:  1.314\n",
      "Epoch   0 Batch  154/269 - Train Accuracy:  0.703, Validation Accuracy:  0.712, Loss:  1.350\n",
      "Epoch   0 Batch  155/269 - Train Accuracy:  0.738, Validation Accuracy:  0.721, Loss:  1.280\n",
      "Epoch   0 Batch  156/269 - Train Accuracy:  0.693, Validation Accuracy:  0.726, Loss:  1.332\n",
      "Epoch   0 Batch  157/269 - Train Accuracy:  0.707, Validation Accuracy:  0.711, Loss:  1.331\n",
      "Epoch   0 Batch  158/269 - Train Accuracy:  0.712, Validation Accuracy:  0.721, Loss:  1.315\n",
      "Epoch   0 Batch  159/269 - Train Accuracy:  0.705, Validation Accuracy:  0.726, Loss:  1.325\n",
      "Epoch   0 Batch  160/269 - Train Accuracy:  0.728, Validation Accuracy:  0.737, Loss:  1.343\n",
      "Epoch   0 Batch  161/269 - Train Accuracy:  0.729, Validation Accuracy:  0.746, Loss:  1.300\n",
      "Epoch   0 Batch  162/269 - Train Accuracy:  0.730, Validation Accuracy:  0.741, Loss:  1.284\n",
      "Epoch   0 Batch  163/269 - Train Accuracy:  0.733, Validation Accuracy:  0.738, Loss:  1.288\n",
      "Epoch   0 Batch  164/269 - Train Accuracy:  0.751, Validation Accuracy:  0.744, Loss:  1.295\n",
      "Epoch   0 Batch  165/269 - Train Accuracy:  0.724, Validation Accuracy:  0.732, Loss:  1.326\n",
      "Epoch   0 Batch  166/269 - Train Accuracy:  0.729, Validation Accuracy:  0.742, Loss:  1.265\n",
      "Epoch   0 Batch  167/269 - Train Accuracy:  0.729, Validation Accuracy:  0.750, Loss:  1.253\n",
      "Epoch   0 Batch  168/269 - Train Accuracy:  0.723, Validation Accuracy:  0.740, Loss:  1.277\n",
      "Epoch   0 Batch  169/269 - Train Accuracy:  0.753, Validation Accuracy:  0.745, Loss:  1.265\n",
      "Epoch   0 Batch  170/269 - Train Accuracy:  0.747, Validation Accuracy:  0.744, Loss:  1.298\n",
      "Epoch   0 Batch  171/269 - Train Accuracy:  0.757, Validation Accuracy:  0.742, Loss:  1.297\n",
      "Epoch   0 Batch  172/269 - Train Accuracy:  0.755, Validation Accuracy:  0.752, Loss:  1.286\n",
      "Epoch   0 Batch  173/269 - Train Accuracy:  0.747, Validation Accuracy:  0.746, Loss:  1.275\n",
      "Epoch   0 Batch  174/269 - Train Accuracy:  0.747, Validation Accuracy:  0.739, Loss:  1.252\n",
      "Epoch   0 Batch  175/269 - Train Accuracy:  0.734, Validation Accuracy:  0.745, Loss:  1.331\n",
      "Epoch   0 Batch  176/269 - Train Accuracy:  0.730, Validation Accuracy:  0.745, Loss:  1.267\n",
      "Epoch   0 Batch  177/269 - Train Accuracy:  0.748, Validation Accuracy:  0.751, Loss:  1.254\n",
      "Epoch   0 Batch  178/269 - Train Accuracy:  0.744, Validation Accuracy:  0.754, Loss:  1.225\n",
      "Epoch   0 Batch  179/269 - Train Accuracy:  0.752, Validation Accuracy:  0.757, Loss:  1.239\n",
      "Epoch   0 Batch  180/269 - Train Accuracy:  0.761, Validation Accuracy:  0.765, Loss:  1.199\n",
      "Epoch   0 Batch  181/269 - Train Accuracy:  0.748, Validation Accuracy:  0.767, Loss:  1.264\n",
      "Epoch   0 Batch  182/269 - Train Accuracy:  0.765, Validation Accuracy:  0.761, Loss:  1.249\n",
      "Epoch   0 Batch  183/269 - Train Accuracy:  0.814, Validation Accuracy:  0.767, Loss:  1.215\n",
      "Epoch   0 Batch  184/269 - Train Accuracy:  0.771, Validation Accuracy:  0.763, Loss:  1.251\n",
      "Epoch   0 Batch  185/269 - Train Accuracy:  0.781, Validation Accuracy:  0.775, Loss:  1.211\n",
      "Epoch   0 Batch  186/269 - Train Accuracy:  0.768, Validation Accuracy:  0.771, Loss:  1.223\n",
      "Epoch   0 Batch  187/269 - Train Accuracy:  0.763, Validation Accuracy:  0.768, Loss:  1.217\n",
      "Epoch   0 Batch  188/269 - Train Accuracy:  0.778, Validation Accuracy:  0.771, Loss:  1.199\n",
      "Epoch   0 Batch  189/269 - Train Accuracy:  0.785, Validation Accuracy:  0.769, Loss:  1.220\n",
      "Epoch   0 Batch  190/269 - Train Accuracy:  0.773, Validation Accuracy:  0.768, Loss:  1.160\n",
      "Epoch   0 Batch  191/269 - Train Accuracy:  0.773, Validation Accuracy:  0.773, Loss:  1.212\n",
      "Epoch   0 Batch  192/269 - Train Accuracy:  0.776, Validation Accuracy:  0.772, Loss:  1.221\n",
      "Epoch   0 Batch  193/269 - Train Accuracy:  0.779, Validation Accuracy:  0.773, Loss:  1.202\n",
      "Epoch   0 Batch  194/269 - Train Accuracy:  0.783, Validation Accuracy:  0.778, Loss:  1.213\n",
      "Epoch   0 Batch  195/269 - Train Accuracy:  0.776, Validation Accuracy:  0.775, Loss:  1.219\n",
      "Epoch   0 Batch  196/269 - Train Accuracy:  0.776, Validation Accuracy:  0.789, Loss:  1.209\n",
      "Epoch   0 Batch  197/269 - Train Accuracy:  0.776, Validation Accuracy:  0.787, Loss:  1.197\n",
      "Epoch   0 Batch  198/269 - Train Accuracy:  0.782, Validation Accuracy:  0.790, Loss:  1.220\n",
      "Epoch   0 Batch  199/269 - Train Accuracy:  0.797, Validation Accuracy:  0.791, Loss:  1.188\n",
      "Epoch   0 Batch  200/269 - Train Accuracy:  0.794, Validation Accuracy:  0.795, Loss:  1.191\n",
      "Epoch   0 Batch  201/269 - Train Accuracy:  0.803, Validation Accuracy:  0.802, Loss:  1.187\n",
      "Epoch   0 Batch  202/269 - Train Accuracy:  0.763, Validation Accuracy:  0.790, Loss:  1.214\n",
      "Epoch   0 Batch  203/269 - Train Accuracy:  0.775, Validation Accuracy:  0.798, Loss:  1.222\n",
      "Epoch   0 Batch  204/269 - Train Accuracy:  0.784, Validation Accuracy:  0.794, Loss:  1.197\n",
      "Epoch   0 Batch  205/269 - Train Accuracy:  0.795, Validation Accuracy:  0.790, Loss:  1.157\n",
      "Epoch   0 Batch  206/269 - Train Accuracy:  0.791, Validation Accuracy:  0.790, Loss:  1.190\n",
      "Epoch   0 Batch  207/269 - Train Accuracy:  0.801, Validation Accuracy:  0.795, Loss:  1.127\n",
      "Epoch   0 Batch  208/269 - Train Accuracy:  0.797, Validation Accuracy:  0.798, Loss:  1.174\n",
      "Epoch   0 Batch  209/269 - Train Accuracy:  0.790, Validation Accuracy:  0.797, Loss:  1.176\n",
      "Epoch   0 Batch  210/269 - Train Accuracy:  0.796, Validation Accuracy:  0.804, Loss:  1.155\n",
      "Epoch   0 Batch  211/269 - Train Accuracy:  0.811, Validation Accuracy:  0.807, Loss:  1.181\n",
      "Epoch   0 Batch  212/269 - Train Accuracy:  0.813, Validation Accuracy:  0.813, Loss:  1.168\n",
      "Epoch   0 Batch  213/269 - Train Accuracy:  0.820, Validation Accuracy:  0.818, Loss:  1.146\n",
      "Epoch   0 Batch  214/269 - Train Accuracy:  0.803, Validation Accuracy:  0.818, Loss:  1.183\n",
      "Epoch   0 Batch  215/269 - Train Accuracy:  0.833, Validation Accuracy:  0.814, Loss:  1.148\n",
      "Epoch   0 Batch  216/269 - Train Accuracy:  0.799, Validation Accuracy:  0.814, Loss:  1.156\n",
      "Epoch   0 Batch  217/269 - Train Accuracy:  0.808, Validation Accuracy:  0.819, Loss:  1.154\n",
      "Epoch   0 Batch  218/269 - Train Accuracy:  0.809, Validation Accuracy:  0.826, Loss:  1.165\n",
      "Epoch   0 Batch  219/269 - Train Accuracy:  0.828, Validation Accuracy:  0.823, Loss:  1.149\n",
      "Epoch   0 Batch  220/269 - Train Accuracy:  0.825, Validation Accuracy:  0.822, Loss:  1.122\n",
      "Epoch   0 Batch  221/269 - Train Accuracy:  0.826, Validation Accuracy:  0.822, Loss:  1.123\n",
      "Epoch   0 Batch  222/269 - Train Accuracy:  0.840, Validation Accuracy:  0.817, Loss:  1.114\n",
      "Epoch   0 Batch  223/269 - Train Accuracy:  0.818, Validation Accuracy:  0.816, Loss:  1.112\n",
      "Epoch   0 Batch  224/269 - Train Accuracy:  0.826, Validation Accuracy:  0.826, Loss:  1.166\n",
      "Epoch   0 Batch  225/269 - Train Accuracy:  0.819, Validation Accuracy:  0.827, Loss:  1.100\n",
      "Epoch   0 Batch  226/269 - Train Accuracy:  0.838, Validation Accuracy:  0.833, Loss:  1.094\n",
      "Epoch   0 Batch  227/269 - Train Accuracy:  0.864, Validation Accuracy:  0.836, Loss:  1.123\n",
      "Epoch   0 Batch  228/269 - Train Accuracy:  0.832, Validation Accuracy:  0.833, Loss:  1.114\n",
      "Epoch   0 Batch  229/269 - Train Accuracy:  0.833, Validation Accuracy:  0.833, Loss:  1.123\n",
      "Epoch   0 Batch  230/269 - Train Accuracy:  0.838, Validation Accuracy:  0.829, Loss:  1.077\n",
      "Epoch   0 Batch  231/269 - Train Accuracy:  0.808, Validation Accuracy:  0.829, Loss:  1.165\n",
      "Epoch   0 Batch  232/269 - Train Accuracy:  0.821, Validation Accuracy:  0.826, Loss:  1.148\n",
      "Epoch   0 Batch  233/269 - Train Accuracy:  0.845, Validation Accuracy:  0.819, Loss:  1.128\n",
      "Epoch   0 Batch  234/269 - Train Accuracy:  0.816, Validation Accuracy:  0.824, Loss:  1.115\n",
      "Epoch   0 Batch  235/269 - Train Accuracy:  0.837, Validation Accuracy:  0.831, Loss:  1.122\n",
      "Epoch   0 Batch  236/269 - Train Accuracy:  0.831, Validation Accuracy:  0.834, Loss:  1.118\n",
      "Epoch   0 Batch  237/269 - Train Accuracy:  0.843, Validation Accuracy:  0.840, Loss:  1.112\n",
      "Epoch   0 Batch  238/269 - Train Accuracy:  0.842, Validation Accuracy:  0.834, Loss:  1.136\n",
      "Epoch   0 Batch  239/269 - Train Accuracy:  0.843, Validation Accuracy:  0.841, Loss:  1.125\n",
      "Epoch   0 Batch  240/269 - Train Accuracy:  0.862, Validation Accuracy:  0.842, Loss:  1.092\n",
      "Epoch   0 Batch  241/269 - Train Accuracy:  0.832, Validation Accuracy:  0.843, Loss:  1.122\n",
      "Epoch   0 Batch  242/269 - Train Accuracy:  0.855, Validation Accuracy:  0.836, Loss:  1.081\n",
      "Epoch   0 Batch  243/269 - Train Accuracy:  0.843, Validation Accuracy:  0.845, Loss:  1.109\n",
      "Epoch   0 Batch  244/269 - Train Accuracy:  0.842, Validation Accuracy:  0.848, Loss:  1.089\n",
      "Epoch   0 Batch  245/269 - Train Accuracy:  0.841, Validation Accuracy:  0.858, Loss:  1.144\n",
      "Epoch   0 Batch  246/269 - Train Accuracy:  0.832, Validation Accuracy:  0.857, Loss:  1.087\n",
      "Epoch   0 Batch  247/269 - Train Accuracy:  0.848, Validation Accuracy:  0.859, Loss:  1.078\n",
      "Epoch   0 Batch  248/269 - Train Accuracy:  0.860, Validation Accuracy:  0.851, Loss:  1.117\n",
      "Epoch   0 Batch  249/269 - Train Accuracy:  0.859, Validation Accuracy:  0.850, Loss:  1.044\n",
      "Epoch   0 Batch  250/269 - Train Accuracy:  0.865, Validation Accuracy:  0.853, Loss:  1.062\n",
      "Epoch   0 Batch  251/269 - Train Accuracy:  0.870, Validation Accuracy:  0.855, Loss:  1.074\n",
      "Epoch   0 Batch  252/269 - Train Accuracy:  0.855, Validation Accuracy:  0.850, Loss:  1.067\n",
      "Epoch   0 Batch  253/269 - Train Accuracy:  0.836, Validation Accuracy:  0.854, Loss:  1.090\n",
      "Epoch   0 Batch  254/269 - Train Accuracy:  0.842, Validation Accuracy:  0.856, Loss:  1.096\n",
      "Epoch   0 Batch  255/269 - Train Accuracy:  0.843, Validation Accuracy:  0.852, Loss:  1.088\n",
      "Epoch   0 Batch  256/269 - Train Accuracy:  0.840, Validation Accuracy:  0.854, Loss:  1.103\n",
      "Epoch   0 Batch  257/269 - Train Accuracy:  0.827, Validation Accuracy:  0.854, Loss:  1.099\n",
      "Epoch   0 Batch  258/269 - Train Accuracy:  0.857, Validation Accuracy:  0.858, Loss:  1.085\n",
      "Epoch   0 Batch  259/269 - Train Accuracy:  0.864, Validation Accuracy:  0.862, Loss:  1.086\n",
      "Epoch   0 Batch  260/269 - Train Accuracy:  0.844, Validation Accuracy:  0.861, Loss:  1.102\n",
      "Epoch   0 Batch  261/269 - Train Accuracy:  0.852, Validation Accuracy:  0.864, Loss:  1.073\n",
      "Epoch   0 Batch  262/269 - Train Accuracy:  0.871, Validation Accuracy:  0.864, Loss:  1.064\n",
      "Epoch   0 Batch  263/269 - Train Accuracy:  0.869, Validation Accuracy:  0.864, Loss:  1.089\n",
      "Epoch   0 Batch  264/269 - Train Accuracy:  0.836, Validation Accuracy:  0.867, Loss:  1.084\n",
      "Epoch   0 Batch  265/269 - Train Accuracy:  0.881, Validation Accuracy:  0.870, Loss:  1.064\n",
      "Epoch   0 Batch  266/269 - Train Accuracy:  0.876, Validation Accuracy:  0.872, Loss:  1.018\n",
      "Epoch   0 Batch  267/269 - Train Accuracy:  0.867, Validation Accuracy:  0.870, Loss:  1.055\n",
      "Epoch   1 Batch    0/269 - Train Accuracy:  0.869, Validation Accuracy:  0.866, Loss:  1.086\n",
      "Epoch   1 Batch    1/269 - Train Accuracy:  0.868, Validation Accuracy:  0.863, Loss:  1.045\n",
      "Epoch   1 Batch    2/269 - Train Accuracy:  0.875, Validation Accuracy:  0.855, Loss:  1.037\n",
      "Epoch   1 Batch    3/269 - Train Accuracy:  0.876, Validation Accuracy:  0.864, Loss:  1.088\n",
      "Epoch   1 Batch    4/269 - Train Accuracy:  0.858, Validation Accuracy:  0.864, Loss:  1.047\n",
      "Epoch   1 Batch    5/269 - Train Accuracy:  0.853, Validation Accuracy:  0.867, Loss:  1.055\n",
      "Epoch   1 Batch    6/269 - Train Accuracy:  0.896, Validation Accuracy:  0.878, Loss:  1.052\n",
      "Epoch   1 Batch    7/269 - Train Accuracy:  0.880, Validation Accuracy:  0.871, Loss:  1.038\n",
      "Epoch   1 Batch    8/269 - Train Accuracy:  0.884, Validation Accuracy:  0.881, Loss:  1.044\n",
      "Epoch   1 Batch    9/269 - Train Accuracy:  0.872, Validation Accuracy:  0.887, Loss:  1.063\n",
      "Epoch   1 Batch   10/269 - Train Accuracy:  0.881, Validation Accuracy:  0.884, Loss:  1.080\n",
      "Epoch   1 Batch   11/269 - Train Accuracy:  0.876, Validation Accuracy:  0.868, Loss:  1.062\n",
      "Epoch   1 Batch   12/269 - Train Accuracy:  0.859, Validation Accuracy:  0.873, Loss:  1.071\n",
      "Epoch   1 Batch   13/269 - Train Accuracy:  0.887, Validation Accuracy:  0.870, Loss:  1.008\n",
      "Epoch   1 Batch   14/269 - Train Accuracy:  0.867, Validation Accuracy:  0.869, Loss:  1.038\n",
      "Epoch   1 Batch   15/269 - Train Accuracy:  0.886, Validation Accuracy:  0.874, Loss:  1.010\n",
      "Epoch   1 Batch   16/269 - Train Accuracy:  0.873, Validation Accuracy:  0.863, Loss:  0.995\n",
      "Epoch   1 Batch   17/269 - Train Accuracy:  0.891, Validation Accuracy:  0.872, Loss:  1.013\n",
      "Epoch   1 Batch   18/269 - Train Accuracy:  0.875, Validation Accuracy:  0.872, Loss:  1.068\n",
      "Epoch   1 Batch   19/269 - Train Accuracy:  0.890, Validation Accuracy:  0.873, Loss:  1.026\n",
      "Epoch   1 Batch   20/269 - Train Accuracy:  0.887, Validation Accuracy:  0.879, Loss:  1.044\n",
      "Epoch   1 Batch   21/269 - Train Accuracy:  0.871, Validation Accuracy:  0.871, Loss:  1.035\n",
      "Epoch   1 Batch   22/269 - Train Accuracy:  0.892, Validation Accuracy:  0.883, Loss:  1.022\n",
      "Epoch   1 Batch   23/269 - Train Accuracy:  0.869, Validation Accuracy:  0.881, Loss:  1.017\n",
      "Epoch   1 Batch   24/269 - Train Accuracy:  0.891, Validation Accuracy:  0.882, Loss:  1.049\n",
      "Epoch   1 Batch   25/269 - Train Accuracy:  0.895, Validation Accuracy:  0.892, Loss:  1.011\n",
      "Epoch   1 Batch   26/269 - Train Accuracy:  0.899, Validation Accuracy:  0.900, Loss:  1.026\n",
      "Epoch   1 Batch   27/269 - Train Accuracy:  0.883, Validation Accuracy:  0.900, Loss:  1.027\n",
      "Epoch   1 Batch   28/269 - Train Accuracy:  0.854, Validation Accuracy:  0.893, Loss:  1.024\n",
      "Epoch   1 Batch   29/269 - Train Accuracy:  0.892, Validation Accuracy:  0.900, Loss:  1.025\n",
      "Epoch   1 Batch   30/269 - Train Accuracy:  0.893, Validation Accuracy:  0.896, Loss:  1.027\n",
      "Epoch   1 Batch   31/269 - Train Accuracy:  0.894, Validation Accuracy:  0.893, Loss:  1.008\n",
      "Epoch   1 Batch   32/269 - Train Accuracy:  0.896, Validation Accuracy:  0.889, Loss:  0.988\n",
      "Epoch   1 Batch   33/269 - Train Accuracy:  0.902, Validation Accuracy:  0.887, Loss:  0.953\n",
      "Epoch   1 Batch   34/269 - Train Accuracy:  0.902, Validation Accuracy:  0.885, Loss:  0.997\n",
      "Epoch   1 Batch   35/269 - Train Accuracy:  0.895, Validation Accuracy:  0.891, Loss:  0.991\n",
      "Epoch   1 Batch   36/269 - Train Accuracy:  0.879, Validation Accuracy:  0.898, Loss:  1.000\n",
      "Epoch   1 Batch   37/269 - Train Accuracy:  0.884, Validation Accuracy:  0.895, Loss:  1.006\n",
      "Epoch   1 Batch   38/269 - Train Accuracy:  0.891, Validation Accuracy:  0.897, Loss:  0.970\n",
      "Epoch   1 Batch   39/269 - Train Accuracy:  0.892, Validation Accuracy:  0.897, Loss:  0.965\n",
      "Epoch   1 Batch   40/269 - Train Accuracy:  0.888, Validation Accuracy:  0.896, Loss:  0.982\n",
      "Epoch   1 Batch   41/269 - Train Accuracy:  0.898, Validation Accuracy:  0.902, Loss:  1.019\n",
      "Epoch   1 Batch   42/269 - Train Accuracy:  0.905, Validation Accuracy:  0.902, Loss:  0.968\n",
      "Epoch   1 Batch   43/269 - Train Accuracy:  0.895, Validation Accuracy:  0.901, Loss:  0.982\n",
      "Epoch   1 Batch   44/269 - Train Accuracy:  0.895, Validation Accuracy:  0.899, Loss:  1.012\n",
      "Epoch   1 Batch   45/269 - Train Accuracy:  0.906, Validation Accuracy:  0.904, Loss:  1.011\n",
      "Epoch   1 Batch   46/269 - Train Accuracy:  0.905, Validation Accuracy:  0.907, Loss:  0.991\n",
      "Epoch   1 Batch   47/269 - Train Accuracy:  0.914, Validation Accuracy:  0.907, Loss:  0.958\n",
      "Epoch   1 Batch   48/269 - Train Accuracy:  0.909, Validation Accuracy:  0.906, Loss:  0.979\n",
      "Epoch   1 Batch   49/269 - Train Accuracy:  0.917, Validation Accuracy:  0.903, Loss:  1.000\n",
      "Epoch   1 Batch   50/269 - Train Accuracy:  0.892, Validation Accuracy:  0.897, Loss:  0.997\n",
      "Epoch   1 Batch   51/269 - Train Accuracy:  0.909, Validation Accuracy:  0.896, Loss:  0.999\n",
      "Epoch   1 Batch   52/269 - Train Accuracy:  0.899, Validation Accuracy:  0.896, Loss:  0.972\n",
      "Epoch   1 Batch   53/269 - Train Accuracy:  0.896, Validation Accuracy:  0.897, Loss:  1.004\n",
      "Epoch   1 Batch   54/269 - Train Accuracy:  0.901, Validation Accuracy:  0.904, Loss:  0.998\n",
      "Epoch   1 Batch   55/269 - Train Accuracy:  0.921, Validation Accuracy:  0.907, Loss:  0.969\n",
      "Epoch   1 Batch   56/269 - Train Accuracy:  0.902, Validation Accuracy:  0.916, Loss:  0.961\n",
      "Epoch   1 Batch   57/269 - Train Accuracy:  0.910, Validation Accuracy:  0.914, Loss:  1.009\n",
      "Epoch   1 Batch   58/269 - Train Accuracy:  0.912, Validation Accuracy:  0.908, Loss:  0.967\n",
      "Epoch   1 Batch   59/269 - Train Accuracy:  0.930, Validation Accuracy:  0.911, Loss:  0.959\n",
      "Epoch   1 Batch   60/269 - Train Accuracy:  0.905, Validation Accuracy:  0.911, Loss:  1.020\n",
      "Epoch   1 Batch   61/269 - Train Accuracy:  0.914, Validation Accuracy:  0.910, Loss:  0.986\n",
      "Epoch   1 Batch   62/269 - Train Accuracy:  0.904, Validation Accuracy:  0.905, Loss:  0.977\n",
      "Epoch   1 Batch   63/269 - Train Accuracy:  0.906, Validation Accuracy:  0.909, Loss:  0.981\n",
      "Epoch   1 Batch   64/269 - Train Accuracy:  0.916, Validation Accuracy:  0.915, Loss:  0.978\n",
      "Epoch   1 Batch   65/269 - Train Accuracy:  0.905, Validation Accuracy:  0.914, Loss:  0.985\n",
      "Epoch   1 Batch   66/269 - Train Accuracy:  0.907, Validation Accuracy:  0.909, Loss:  0.970\n",
      "Epoch   1 Batch   67/269 - Train Accuracy:  0.911, Validation Accuracy:  0.912, Loss:  0.993\n",
      "Epoch   1 Batch   68/269 - Train Accuracy:  0.897, Validation Accuracy:  0.912, Loss:  1.001\n",
      "Epoch   1 Batch   69/269 - Train Accuracy:  0.903, Validation Accuracy:  0.913, Loss:  1.004\n",
      "Epoch   1 Batch   70/269 - Train Accuracy:  0.916, Validation Accuracy:  0.907, Loss:  0.975\n",
      "Epoch   1 Batch   71/269 - Train Accuracy:  0.909, Validation Accuracy:  0.908, Loss:  0.992\n",
      "Epoch   1 Batch   72/269 - Train Accuracy:  0.905, Validation Accuracy:  0.906, Loss:  0.990\n",
      "Epoch   1 Batch   73/269 - Train Accuracy:  0.894, Validation Accuracy:  0.914, Loss:  0.992\n",
      "Epoch   1 Batch   74/269 - Train Accuracy:  0.916, Validation Accuracy:  0.914, Loss:  0.992\n",
      "Epoch   1 Batch   75/269 - Train Accuracy:  0.912, Validation Accuracy:  0.920, Loss:  0.977\n",
      "Epoch   1 Batch   76/269 - Train Accuracy:  0.903, Validation Accuracy:  0.919, Loss:  0.984\n",
      "Epoch   1 Batch   77/269 - Train Accuracy:  0.905, Validation Accuracy:  0.916, Loss:  1.002\n",
      "Epoch   1 Batch   78/269 - Train Accuracy:  0.914, Validation Accuracy:  0.911, Loss:  0.985\n",
      "Epoch   1 Batch   79/269 - Train Accuracy:  0.904, Validation Accuracy:  0.907, Loss:  0.962\n",
      "Epoch   1 Batch   80/269 - Train Accuracy:  0.913, Validation Accuracy:  0.906, Loss:  0.985\n",
      "Epoch   1 Batch   81/269 - Train Accuracy:  0.907, Validation Accuracy:  0.913, Loss:  0.993\n",
      "Epoch   1 Batch   82/269 - Train Accuracy:  0.927, Validation Accuracy:  0.913, Loss:  0.987\n",
      "Epoch   1 Batch   83/269 - Train Accuracy:  0.899, Validation Accuracy:  0.912, Loss:  0.986\n",
      "Epoch   1 Batch   84/269 - Train Accuracy:  0.910, Validation Accuracy:  0.913, Loss:  0.964\n",
      "Epoch   1 Batch   85/269 - Train Accuracy:  0.912, Validation Accuracy:  0.907, Loss:  0.929\n",
      "Epoch   1 Batch   86/269 - Train Accuracy:  0.907, Validation Accuracy:  0.912, Loss:  0.959\n",
      "Epoch   1 Batch   87/269 - Train Accuracy:  0.903, Validation Accuracy:  0.908, Loss:  1.000\n",
      "Epoch   1 Batch   88/269 - Train Accuracy:  0.885, Validation Accuracy:  0.911, Loss:  0.986\n",
      "Epoch   1 Batch   89/269 - Train Accuracy:  0.920, Validation Accuracy:  0.911, Loss:  0.984\n",
      "Epoch   1 Batch   90/269 - Train Accuracy:  0.906, Validation Accuracy:  0.914, Loss:  0.965\n",
      "Epoch   1 Batch   91/269 - Train Accuracy:  0.934, Validation Accuracy:  0.917, Loss:  0.972\n",
      "Epoch   1 Batch   92/269 - Train Accuracy:  0.931, Validation Accuracy:  0.923, Loss:  0.950\n",
      "Epoch   1 Batch   93/269 - Train Accuracy:  0.920, Validation Accuracy:  0.918, Loss:  0.940\n",
      "Epoch   1 Batch   94/269 - Train Accuracy:  0.909, Validation Accuracy:  0.917, Loss:  0.949\n",
      "Epoch   1 Batch   95/269 - Train Accuracy:  0.928, Validation Accuracy:  0.917, Loss:  0.967\n",
      "Epoch   1 Batch   96/269 - Train Accuracy:  0.911, Validation Accuracy:  0.918, Loss:  0.964\n",
      "Epoch   1 Batch   97/269 - Train Accuracy:  0.913, Validation Accuracy:  0.915, Loss:  0.958\n",
      "Epoch   1 Batch   98/269 - Train Accuracy:  0.911, Validation Accuracy:  0.917, Loss:  0.973\n",
      "Epoch   1 Batch   99/269 - Train Accuracy:  0.913, Validation Accuracy:  0.913, Loss:  0.975\n",
      "Epoch   1 Batch  100/269 - Train Accuracy:  0.928, Validation Accuracy:  0.915, Loss:  0.923\n",
      "Epoch   1 Batch  101/269 - Train Accuracy:  0.909, Validation Accuracy:  0.919, Loss:  0.974\n",
      "Epoch   1 Batch  102/269 - Train Accuracy:  0.921, Validation Accuracy:  0.926, Loss:  0.929\n",
      "Epoch   1 Batch  103/269 - Train Accuracy:  0.916, Validation Accuracy:  0.919, Loss:  0.925\n",
      "Epoch   1 Batch  104/269 - Train Accuracy:  0.920, Validation Accuracy:  0.920, Loss:  0.949\n",
      "Epoch   1 Batch  105/269 - Train Accuracy:  0.908, Validation Accuracy:  0.920, Loss:  0.983\n",
      "Epoch   1 Batch  106/269 - Train Accuracy:  0.925, Validation Accuracy:  0.919, Loss:  0.974\n",
      "Epoch   1 Batch  107/269 - Train Accuracy:  0.934, Validation Accuracy:  0.916, Loss:  0.972\n",
      "Epoch   1 Batch  108/269 - Train Accuracy:  0.921, Validation Accuracy:  0.916, Loss:  0.939\n",
      "Epoch   1 Batch  109/269 - Train Accuracy:  0.904, Validation Accuracy:  0.915, Loss:  0.978\n",
      "Epoch   1 Batch  110/269 - Train Accuracy:  0.919, Validation Accuracy:  0.911, Loss:  0.950\n",
      "Epoch   1 Batch  111/269 - Train Accuracy:  0.910, Validation Accuracy:  0.906, Loss:  0.946\n",
      "Epoch   1 Batch  112/269 - Train Accuracy:  0.915, Validation Accuracy:  0.915, Loss:  0.950\n",
      "Epoch   1 Batch  113/269 - Train Accuracy:  0.923, Validation Accuracy:  0.916, Loss:  0.938\n",
      "Epoch   1 Batch  114/269 - Train Accuracy:  0.920, Validation Accuracy:  0.921, Loss:  0.946\n",
      "Epoch   1 Batch  115/269 - Train Accuracy:  0.907, Validation Accuracy:  0.924, Loss:  0.958\n",
      "Epoch   1 Batch  116/269 - Train Accuracy:  0.929, Validation Accuracy:  0.921, Loss:  0.977\n",
      "Epoch   1 Batch  117/269 - Train Accuracy:  0.934, Validation Accuracy:  0.923, Loss:  0.947\n",
      "Epoch   1 Batch  118/269 - Train Accuracy:  0.927, Validation Accuracy:  0.925, Loss:  0.975\n",
      "Epoch   1 Batch  119/269 - Train Accuracy:  0.912, Validation Accuracy:  0.924, Loss:  0.957\n",
      "Epoch   1 Batch  120/269 - Train Accuracy:  0.918, Validation Accuracy:  0.923, Loss:  0.974\n",
      "Epoch   1 Batch  121/269 - Train Accuracy:  0.920, Validation Accuracy:  0.920, Loss:  0.935\n",
      "Epoch   1 Batch  122/269 - Train Accuracy:  0.924, Validation Accuracy:  0.920, Loss:  0.958\n",
      "Epoch   1 Batch  123/269 - Train Accuracy:  0.911, Validation Accuracy:  0.920, Loss:  0.975\n",
      "Epoch   1 Batch  124/269 - Train Accuracy:  0.916, Validation Accuracy:  0.921, Loss:  0.940\n",
      "Epoch   1 Batch  125/269 - Train Accuracy:  0.934, Validation Accuracy:  0.923, Loss:  0.952\n",
      "Epoch   1 Batch  126/269 - Train Accuracy:  0.900, Validation Accuracy:  0.924, Loss:  0.930\n",
      "Epoch   1 Batch  127/269 - Train Accuracy:  0.916, Validation Accuracy:  0.924, Loss:  0.975\n",
      "Epoch   1 Batch  128/269 - Train Accuracy:  0.910, Validation Accuracy:  0.927, Loss:  0.950\n",
      "Epoch   1 Batch  129/269 - Train Accuracy:  0.909, Validation Accuracy:  0.927, Loss:  0.929\n",
      "Epoch   1 Batch  130/269 - Train Accuracy:  0.928, Validation Accuracy:  0.919, Loss:  0.938\n",
      "Epoch   1 Batch  131/269 - Train Accuracy:  0.907, Validation Accuracy:  0.921, Loss:  0.934\n",
      "Epoch   1 Batch  132/269 - Train Accuracy:  0.908, Validation Accuracy:  0.923, Loss:  0.973\n",
      "Epoch   1 Batch  133/269 - Train Accuracy:  0.927, Validation Accuracy:  0.926, Loss:  0.927\n",
      "Epoch   1 Batch  134/269 - Train Accuracy:  0.922, Validation Accuracy:  0.926, Loss:  0.959\n",
      "Epoch   1 Batch  135/269 - Train Accuracy:  0.925, Validation Accuracy:  0.925, Loss:  0.920\n",
      "Epoch   1 Batch  136/269 - Train Accuracy:  0.907, Validation Accuracy:  0.924, Loss:  0.977\n",
      "Epoch   1 Batch  137/269 - Train Accuracy:  0.921, Validation Accuracy:  0.930, Loss:  0.961\n",
      "Epoch   1 Batch  138/269 - Train Accuracy:  0.927, Validation Accuracy:  0.928, Loss:  0.955\n",
      "Epoch   1 Batch  139/269 - Train Accuracy:  0.926, Validation Accuracy:  0.932, Loss:  0.937\n",
      "Epoch   1 Batch  140/269 - Train Accuracy:  0.921, Validation Accuracy:  0.925, Loss:  0.935\n",
      "Epoch   1 Batch  141/269 - Train Accuracy:  0.918, Validation Accuracy:  0.926, Loss:  0.957\n",
      "Epoch   1 Batch  142/269 - Train Accuracy:  0.918, Validation Accuracy:  0.923, Loss:  0.961\n",
      "Epoch   1 Batch  143/269 - Train Accuracy:  0.938, Validation Accuracy:  0.922, Loss:  0.946\n",
      "Epoch   1 Batch  144/269 - Train Accuracy:  0.928, Validation Accuracy:  0.919, Loss:  0.931\n",
      "Epoch   1 Batch  145/269 - Train Accuracy:  0.917, Validation Accuracy:  0.916, Loss:  0.920\n",
      "Epoch   1 Batch  146/269 - Train Accuracy:  0.922, Validation Accuracy:  0.927, Loss:  0.967\n",
      "Epoch   1 Batch  147/269 - Train Accuracy:  0.928, Validation Accuracy:  0.925, Loss:  0.949\n",
      "Epoch   1 Batch  148/269 - Train Accuracy:  0.924, Validation Accuracy:  0.927, Loss:  0.954\n",
      "Epoch   1 Batch  149/269 - Train Accuracy:  0.921, Validation Accuracy:  0.924, Loss:  0.966\n",
      "Epoch   1 Batch  150/269 - Train Accuracy:  0.922, Validation Accuracy:  0.921, Loss:  0.949\n",
      "Epoch   1 Batch  151/269 - Train Accuracy:  0.931, Validation Accuracy:  0.924, Loss:  0.944\n",
      "Epoch   1 Batch  152/269 - Train Accuracy:  0.929, Validation Accuracy:  0.925, Loss:  0.962\n",
      "Epoch   1 Batch  153/269 - Train Accuracy:  0.934, Validation Accuracy:  0.927, Loss:  0.970\n",
      "Epoch   1 Batch  154/269 - Train Accuracy:  0.932, Validation Accuracy:  0.929, Loss:  0.971\n",
      "Epoch   1 Batch  155/269 - Train Accuracy:  0.924, Validation Accuracy:  0.930, Loss:  0.971\n",
      "Epoch   1 Batch  156/269 - Train Accuracy:  0.921, Validation Accuracy:  0.930, Loss:  0.955\n",
      "Epoch   1 Batch  157/269 - Train Accuracy:  0.911, Validation Accuracy:  0.925, Loss:  0.962\n",
      "Epoch   1 Batch  158/269 - Train Accuracy:  0.915, Validation Accuracy:  0.928, Loss:  0.969\n",
      "Epoch   1 Batch  159/269 - Train Accuracy:  0.928, Validation Accuracy:  0.934, Loss:  0.935\n",
      "Epoch   1 Batch  160/269 - Train Accuracy:  0.919, Validation Accuracy:  0.926, Loss:  0.966\n",
      "Epoch   1 Batch  161/269 - Train Accuracy:  0.936, Validation Accuracy:  0.925, Loss:  0.953\n",
      "Epoch   1 Batch  162/269 - Train Accuracy:  0.929, Validation Accuracy:  0.926, Loss:  0.919\n",
      "Epoch   1 Batch  163/269 - Train Accuracy:  0.943, Validation Accuracy:  0.928, Loss:  0.923\n",
      "Epoch   1 Batch  164/269 - Train Accuracy:  0.939, Validation Accuracy:  0.932, Loss:  0.965\n",
      "Epoch   1 Batch  165/269 - Train Accuracy:  0.924, Validation Accuracy:  0.934, Loss:  0.945\n",
      "Epoch   1 Batch  166/269 - Train Accuracy:  0.935, Validation Accuracy:  0.933, Loss:  0.942\n",
      "Epoch   1 Batch  167/269 - Train Accuracy:  0.932, Validation Accuracy:  0.933, Loss:  0.922\n",
      "Epoch   1 Batch  168/269 - Train Accuracy:  0.928, Validation Accuracy:  0.937, Loss:  0.985\n",
      "Epoch   1 Batch  169/269 - Train Accuracy:  0.925, Validation Accuracy:  0.934, Loss:  0.896\n",
      "Epoch   1 Batch  170/269 - Train Accuracy:  0.923, Validation Accuracy:  0.931, Loss:  0.947\n",
      "Epoch   1 Batch  171/269 - Train Accuracy:  0.935, Validation Accuracy:  0.929, Loss:  0.959\n",
      "Epoch   1 Batch  172/269 - Train Accuracy:  0.924, Validation Accuracy:  0.933, Loss:  0.942\n",
      "Epoch   1 Batch  173/269 - Train Accuracy:  0.931, Validation Accuracy:  0.937, Loss:  0.938\n",
      "Epoch   1 Batch  174/269 - Train Accuracy:  0.935, Validation Accuracy:  0.936, Loss:  0.936\n",
      "Epoch   1 Batch  175/269 - Train Accuracy:  0.920, Validation Accuracy:  0.932, Loss:  0.949\n",
      "Epoch   1 Batch  176/269 - Train Accuracy:  0.919, Validation Accuracy:  0.932, Loss:  0.955\n",
      "Epoch   1 Batch  177/269 - Train Accuracy:  0.932, Validation Accuracy:  0.935, Loss:  0.914\n",
      "Epoch   1 Batch  178/269 - Train Accuracy:  0.932, Validation Accuracy:  0.937, Loss:  0.956\n",
      "Epoch   1 Batch  179/269 - Train Accuracy:  0.924, Validation Accuracy:  0.941, Loss:  0.938\n",
      "Epoch   1 Batch  180/269 - Train Accuracy:  0.935, Validation Accuracy:  0.938, Loss:  0.903\n",
      "Epoch   1 Batch  181/269 - Train Accuracy:  0.922, Validation Accuracy:  0.939, Loss:  0.932\n",
      "Epoch   1 Batch  182/269 - Train Accuracy:  0.932, Validation Accuracy:  0.935, Loss:  0.912\n",
      "Epoch   1 Batch  183/269 - Train Accuracy:  0.944, Validation Accuracy:  0.935, Loss:  0.941\n",
      "Epoch   1 Batch  184/269 - Train Accuracy:  0.932, Validation Accuracy:  0.935, Loss:  0.918\n",
      "Epoch   1 Batch  185/269 - Train Accuracy:  0.938, Validation Accuracy:  0.926, Loss:  0.914\n",
      "Epoch   1 Batch  186/269 - Train Accuracy:  0.930, Validation Accuracy:  0.927, Loss:  0.942\n",
      "Epoch   1 Batch  187/269 - Train Accuracy:  0.932, Validation Accuracy:  0.926, Loss:  0.954\n",
      "Epoch   1 Batch  188/269 - Train Accuracy:  0.931, Validation Accuracy:  0.930, Loss:  0.962\n",
      "Epoch   1 Batch  189/269 - Train Accuracy:  0.934, Validation Accuracy:  0.930, Loss:  0.959\n",
      "Epoch   1 Batch  190/269 - Train Accuracy:  0.937, Validation Accuracy:  0.929, Loss:  0.923\n",
      "Epoch   1 Batch  191/269 - Train Accuracy:  0.928, Validation Accuracy:  0.925, Loss:  0.906\n",
      "Epoch   1 Batch  192/269 - Train Accuracy:  0.933, Validation Accuracy:  0.928, Loss:  0.931\n",
      "Epoch   1 Batch  193/269 - Train Accuracy:  0.935, Validation Accuracy:  0.937, Loss:  0.956\n",
      "Epoch   1 Batch  194/269 - Train Accuracy:  0.928, Validation Accuracy:  0.934, Loss:  0.952\n",
      "Epoch   1 Batch  195/269 - Train Accuracy:  0.932, Validation Accuracy:  0.936, Loss:  0.937\n",
      "Epoch   1 Batch  196/269 - Train Accuracy:  0.928, Validation Accuracy:  0.934, Loss:  0.904\n",
      "Epoch   1 Batch  197/269 - Train Accuracy:  0.928, Validation Accuracy:  0.928, Loss:  0.912\n",
      "Epoch   1 Batch  198/269 - Train Accuracy:  0.930, Validation Accuracy:  0.929, Loss:  0.965\n",
      "Epoch   1 Batch  199/269 - Train Accuracy:  0.920, Validation Accuracy:  0.928, Loss:  0.944\n",
      "Epoch   1 Batch  200/269 - Train Accuracy:  0.944, Validation Accuracy:  0.927, Loss:  0.909\n",
      "Epoch   1 Batch  201/269 - Train Accuracy:  0.928, Validation Accuracy:  0.922, Loss:  0.954\n",
      "Epoch   1 Batch  202/269 - Train Accuracy:  0.922, Validation Accuracy:  0.929, Loss:  0.938\n",
      "Epoch   1 Batch  203/269 - Train Accuracy:  0.928, Validation Accuracy:  0.937, Loss:  0.916\n",
      "Epoch   1 Batch  204/269 - Train Accuracy:  0.928, Validation Accuracy:  0.933, Loss:  0.927\n",
      "Epoch   1 Batch  205/269 - Train Accuracy:  0.932, Validation Accuracy:  0.937, Loss:  0.953\n",
      "Epoch   1 Batch  206/269 - Train Accuracy:  0.908, Validation Accuracy:  0.933, Loss:  0.923\n",
      "Epoch   1 Batch  207/269 - Train Accuracy:  0.921, Validation Accuracy:  0.939, Loss:  0.918\n",
      "Epoch   1 Batch  208/269 - Train Accuracy:  0.933, Validation Accuracy:  0.936, Loss:  0.951\n",
      "Epoch   1 Batch  209/269 - Train Accuracy:  0.931, Validation Accuracy:  0.935, Loss:  0.935\n",
      "Epoch   1 Batch  210/269 - Train Accuracy:  0.930, Validation Accuracy:  0.941, Loss:  0.923\n",
      "Epoch   1 Batch  211/269 - Train Accuracy:  0.936, Validation Accuracy:  0.942, Loss:  0.938\n",
      "Epoch   1 Batch  212/269 - Train Accuracy:  0.919, Validation Accuracy:  0.942, Loss:  0.951\n",
      "Epoch   1 Batch  213/269 - Train Accuracy:  0.924, Validation Accuracy:  0.940, Loss:  0.910\n",
      "Epoch   1 Batch  214/269 - Train Accuracy:  0.929, Validation Accuracy:  0.937, Loss:  0.960\n",
      "Epoch   1 Batch  215/269 - Train Accuracy:  0.924, Validation Accuracy:  0.934, Loss:  0.923\n",
      "Epoch   1 Batch  216/269 - Train Accuracy:  0.931, Validation Accuracy:  0.932, Loss:  0.965\n",
      "Epoch   1 Batch  217/269 - Train Accuracy:  0.927, Validation Accuracy:  0.930, Loss:  0.936\n",
      "Epoch   1 Batch  218/269 - Train Accuracy:  0.939, Validation Accuracy:  0.933, Loss:  0.924\n",
      "Epoch   1 Batch  219/269 - Train Accuracy:  0.936, Validation Accuracy:  0.935, Loss:  0.932\n",
      "Epoch   1 Batch  220/269 - Train Accuracy:  0.938, Validation Accuracy:  0.935, Loss:  0.925\n",
      "Epoch   1 Batch  221/269 - Train Accuracy:  0.924, Validation Accuracy:  0.932, Loss:  0.898\n",
      "Epoch   1 Batch  222/269 - Train Accuracy:  0.949, Validation Accuracy:  0.928, Loss:  0.909\n",
      "Epoch   1 Batch  223/269 - Train Accuracy:  0.928, Validation Accuracy:  0.931, Loss:  0.939\n",
      "Epoch   1 Batch  224/269 - Train Accuracy:  0.934, Validation Accuracy:  0.935, Loss:  0.917\n",
      "Epoch   1 Batch  225/269 - Train Accuracy:  0.930, Validation Accuracy:  0.939, Loss:  0.946\n",
      "Epoch   1 Batch  226/269 - Train Accuracy:  0.934, Validation Accuracy:  0.939, Loss:  0.941\n",
      "Epoch   1 Batch  227/269 - Train Accuracy:  0.941, Validation Accuracy:  0.941, Loss:  0.945\n",
      "Epoch   1 Batch  228/269 - Train Accuracy:  0.940, Validation Accuracy:  0.943, Loss:  0.930\n",
      "Epoch   1 Batch  229/269 - Train Accuracy:  0.923, Validation Accuracy:  0.943, Loss:  0.954\n",
      "Epoch   1 Batch  230/269 - Train Accuracy:  0.945, Validation Accuracy:  0.945, Loss:  0.919\n",
      "Epoch   1 Batch  231/269 - Train Accuracy:  0.925, Validation Accuracy:  0.945, Loss:  0.950\n",
      "Epoch   1 Batch  232/269 - Train Accuracy:  0.931, Validation Accuracy:  0.942, Loss:  0.934\n",
      "Epoch   1 Batch  233/269 - Train Accuracy:  0.947, Validation Accuracy:  0.938, Loss:  0.940\n",
      "Epoch   1 Batch  234/269 - Train Accuracy:  0.943, Validation Accuracy:  0.940, Loss:  0.921\n",
      "Epoch   1 Batch  235/269 - Train Accuracy:  0.954, Validation Accuracy:  0.934, Loss:  0.904\n",
      "Epoch   1 Batch  236/269 - Train Accuracy:  0.937, Validation Accuracy:  0.935, Loss:  0.919\n",
      "Epoch   1 Batch  237/269 - Train Accuracy:  0.949, Validation Accuracy:  0.932, Loss:  0.931\n",
      "Epoch   1 Batch  238/269 - Train Accuracy:  0.947, Validation Accuracy:  0.931, Loss:  0.938\n",
      "Epoch   1 Batch  239/269 - Train Accuracy:  0.949, Validation Accuracy:  0.933, Loss:  0.937\n",
      "Epoch   1 Batch  240/269 - Train Accuracy:  0.938, Validation Accuracy:  0.933, Loss:  0.910\n",
      "Epoch   1 Batch  241/269 - Train Accuracy:  0.930, Validation Accuracy:  0.931, Loss:  0.931\n",
      "Epoch   1 Batch  242/269 - Train Accuracy:  0.943, Validation Accuracy:  0.939, Loss:  0.944\n",
      "Epoch   1 Batch  243/269 - Train Accuracy:  0.938, Validation Accuracy:  0.939, Loss:  0.919\n",
      "Epoch   1 Batch  244/269 - Train Accuracy:  0.934, Validation Accuracy:  0.942, Loss:  0.946\n",
      "Epoch   1 Batch  245/269 - Train Accuracy:  0.929, Validation Accuracy:  0.939, Loss:  0.925\n",
      "Epoch   1 Batch  246/269 - Train Accuracy:  0.933, Validation Accuracy:  0.940, Loss:  0.915\n",
      "Epoch   1 Batch  247/269 - Train Accuracy:  0.938, Validation Accuracy:  0.940, Loss:  0.903\n",
      "Epoch   1 Batch  248/269 - Train Accuracy:  0.945, Validation Accuracy:  0.942, Loss:  0.911\n",
      "Epoch   1 Batch  249/269 - Train Accuracy:  0.948, Validation Accuracy:  0.942, Loss:  0.933\n",
      "Epoch   1 Batch  250/269 - Train Accuracy:  0.937, Validation Accuracy:  0.940, Loss:  0.894\n",
      "Epoch   1 Batch  251/269 - Train Accuracy:  0.947, Validation Accuracy:  0.939, Loss:  0.920\n",
      "Epoch   1 Batch  252/269 - Train Accuracy:  0.961, Validation Accuracy:  0.937, Loss:  0.900\n",
      "Epoch   1 Batch  253/269 - Train Accuracy:  0.929, Validation Accuracy:  0.937, Loss:  0.922\n",
      "Epoch   1 Batch  254/269 - Train Accuracy:  0.938, Validation Accuracy:  0.940, Loss:  0.907\n",
      "Epoch   1 Batch  255/269 - Train Accuracy:  0.931, Validation Accuracy:  0.942, Loss:  0.919\n",
      "Epoch   1 Batch  256/269 - Train Accuracy:  0.923, Validation Accuracy:  0.943, Loss:  0.957\n",
      "Epoch   1 Batch  257/269 - Train Accuracy:  0.925, Validation Accuracy:  0.938, Loss:  0.928\n",
      "Epoch   1 Batch  258/269 - Train Accuracy:  0.935, Validation Accuracy:  0.936, Loss:  0.935\n",
      "Epoch   1 Batch  259/269 - Train Accuracy:  0.938, Validation Accuracy:  0.936, Loss:  0.916\n",
      "Epoch   1 Batch  260/269 - Train Accuracy:  0.939, Validation Accuracy:  0.937, Loss:  0.908\n",
      "Epoch   1 Batch  261/269 - Train Accuracy:  0.946, Validation Accuracy:  0.939, Loss:  0.910\n",
      "Epoch   1 Batch  262/269 - Train Accuracy:  0.939, Validation Accuracy:  0.945, Loss:  0.937\n",
      "Epoch   1 Batch  263/269 - Train Accuracy:  0.944, Validation Accuracy:  0.943, Loss:  0.924\n",
      "Epoch   1 Batch  264/269 - Train Accuracy:  0.926, Validation Accuracy:  0.941, Loss:  0.943\n",
      "Epoch   1 Batch  265/269 - Train Accuracy:  0.943, Validation Accuracy:  0.940, Loss:  0.922\n",
      "Epoch   1 Batch  266/269 - Train Accuracy:  0.947, Validation Accuracy:  0.945, Loss:  0.943\n",
      "Epoch   1 Batch  267/269 - Train Accuracy:  0.940, Validation Accuracy:  0.943, Loss:  0.926\n",
      "Model Trained and Saved\n"
     ]
    }
   ],
   "source": [
    "\"\"\"\n",
    "DON'T MODIFY ANYTHING IN THIS CELL\n",
    "\"\"\"\n",
    "import time\n",
    "\n",
    "def get_accuracy(target, logits):\n",
    "    \"\"\"\n",
    "    Calculate accuracy\n",
    "    \"\"\"\n",
    "    max_seq = max(target.shape[1], logits.shape[1])\n",
    "    if max_seq - target.shape[1]:\n",
    "        target = np.pad(\n",
    "            target,\n",
    "            [(0,0),(0,max_seq - target.shape[1])],\n",
    "            'constant')\n",
    "    if max_seq - logits.shape[1]:\n",
    "        logits = np.pad(\n",
    "            logits,\n",
    "            [(0,0),(0,max_seq - logits.shape[1]), (0,0)],\n",
    "            'constant')\n",
    "\n",
    "    return np.mean(np.equal(target, np.argmax(logits, 2)))\n",
    "\n",
    "train_source = source_int_text[batch_size:]\n",
    "train_target = target_int_text[batch_size:]\n",
    "\n",
    "valid_source = helper.pad_sentence_batch(source_int_text[:batch_size])\n",
    "valid_target = helper.pad_sentence_batch(target_int_text[:batch_size])\n",
    "\n",
    "with tf.Session(graph=train_graph) as sess:\n",
    "    sess.run(tf.global_variables_initializer())\n",
    "\n",
    "    for epoch_i in range(epochs):\n",
    "        for batch_i, (source_batch, target_batch) in enumerate(\n",
    "                helper.batch_data(train_source, train_target, batch_size)):\n",
    "            start_time = time.time()\n",
    "            \n",
    "            _, loss = sess.run(\n",
    "                [train_op, cost],\n",
    "                {input_data: source_batch,\n",
    "                 targets: target_batch,\n",
    "                 lr: learning_rate,\n",
    "                 sequence_length: target_batch.shape[1],\n",
    "                 keep_prob: keep_probability})\n",
    "            \n",
    "            batch_train_logits = sess.run(\n",
    "                inference_logits,\n",
    "                {input_data: source_batch, keep_prob: 1.0})\n",
    "            batch_valid_logits = sess.run(\n",
    "                inference_logits,\n",
    "                {input_data: valid_source, keep_prob: 1.0})\n",
    "                \n",
    "            train_acc = get_accuracy(target_batch, batch_train_logits)\n",
    "            valid_acc = get_accuracy(np.array(valid_target), batch_valid_logits)\n",
    "            end_time = time.time()\n",
    "            print('Epoch {:>3} Batch {:>4}/{} - Train Accuracy: {:>6.3f}, Validation Accuracy: {:>6.3f}, Loss: {:>6.3f}'\n",
    "                  .format(epoch_i, batch_i, len(source_int_text) // batch_size, train_acc, valid_acc, loss))\n",
    "\n",
    "    # Save Model\n",
    "    saver = tf.train.Saver()\n",
    "    saver.save(sess, save_path)\n",
    "    print('Model Trained and Saved')"
   ]
  },
  {
   "cell_type": "markdown",
   "metadata": {
    "deletable": true,
    "editable": true
   },
   "source": [
    "### 保存参数\n",
    "\n",
    "保存 `batch_size` 和 `save_path` 参数以进行推论（for inference）。"
   ]
  },
  {
   "cell_type": "code",
   "execution_count": 92,
   "metadata": {
    "collapsed": false,
    "deletable": true,
    "editable": true
   },
   "outputs": [],
   "source": [
    "\"\"\"\n",
    "DON'T MODIFY ANYTHING IN THIS CELL\n",
    "\"\"\"\n",
    "# Save parameters for checkpoint\n",
    "helper.save_params(save_path)"
   ]
  },
  {
   "cell_type": "markdown",
   "metadata": {
    "deletable": true,
    "editable": true
   },
   "source": [
    "# 检查点"
   ]
  },
  {
   "cell_type": "code",
   "execution_count": 93,
   "metadata": {
    "collapsed": false,
    "deletable": true,
    "editable": true
   },
   "outputs": [],
   "source": [
    "\"\"\"\n",
    "DON'T MODIFY ANYTHING IN THIS CELL\n",
    "\"\"\"\n",
    "import tensorflow as tf\n",
    "import numpy as np\n",
    "import helper\n",
    "import problem_unittests as tests\n",
    "\n",
    "_, (source_vocab_to_int, target_vocab_to_int), (source_int_to_vocab, target_int_to_vocab) = helper.load_preprocess()\n",
    "load_path = helper.load_params()"
   ]
  },
  {
   "cell_type": "markdown",
   "metadata": {
    "deletable": true,
    "editable": true
   },
   "source": [
    "## 句子到序列\n",
    "\n",
    "要向模型提供要翻译的句子，你首先需要预处理该句子。实现函数 `sentence_to_seq()` 以预处理新的句子。\n",
    "\n",
    "- 将句子转换为小写形式\n",
    "- 使用 `vocab_to_int` 将单词转换为 id\n",
    " - 如果单词不在词汇表中，将其转换为`<UNK>` 单词 id"
   ]
  },
  {
   "cell_type": "code",
   "execution_count": 94,
   "metadata": {
    "collapsed": false,
    "deletable": true,
    "editable": true
   },
   "outputs": [
    {
     "name": "stdout",
     "output_type": "stream",
     "text": [
      "Tests Passed\n"
     ]
    }
   ],
   "source": [
    "def sentence_to_seq(sentence, vocab_to_int):\n",
    "    \"\"\"\n",
    "    Convert a sentence to a sequence of ids\n",
    "    :param sentence: String\n",
    "    :param vocab_to_int: Dictionary to go from the words to an id\n",
    "    :return: List of word ids\n",
    "    \"\"\"\n",
    "    # TODO: Implement Function\n",
    "    \n",
    "    return [vocab_to_int.get(word, vocab_to_int['<UNK>']) for word in sentence.lower().split()]\n",
    "\n",
    "\n",
    "\n",
    "\"\"\"\n",
    "DON'T MODIFY ANYTHING IN THIS CELL THAT IS BELOW THIS LINE\n",
    "\"\"\"\n",
    "tests.test_sentence_to_seq(sentence_to_seq)"
   ]
  },
  {
   "cell_type": "markdown",
   "metadata": {
    "deletable": true,
    "editable": true
   },
   "source": [
    "## 翻译\n",
    "\n",
    "将 `translate_sentence` 从英语翻译成法语。"
   ]
  },
  {
   "cell_type": "code",
   "execution_count": 95,
   "metadata": {
    "collapsed": false,
    "deletable": true,
    "editable": true
   },
   "outputs": [
    {
     "name": "stdout",
     "output_type": "stream",
     "text": [
      "Input\n",
      "  Word Ids:      [220, 76, 125, 101, 30, 81, 71]\n",
      "  English Words: ['he', 'saw', 'a', 'old', 'yellow', 'truck', '.']\n",
      "\n",
      "Prediction\n",
      "  Word Ids:      [256, 49, 26, 294, 276, 335, 80, 31, 1]\n",
      "  French Words: ['il', 'a', 'vu', 'un', 'vieux', 'camion', 'jaune', '.', '<EOS>']\n"
     ]
    }
   ],
   "source": [
    "translate_sentence = 'he saw a old yellow truck .'\n",
    "\n",
    "\n",
    "\"\"\"\n",
    "DON'T MODIFY ANYTHING IN THIS CELL\n",
    "\"\"\"\n",
    "translate_sentence = sentence_to_seq(translate_sentence, source_vocab_to_int)\n",
    "\n",
    "loaded_graph = tf.Graph()\n",
    "with tf.Session(graph=loaded_graph) as sess:\n",
    "    # Load saved model\n",
    "    loader = tf.train.import_meta_graph(load_path + '.meta')\n",
    "    loader.restore(sess, load_path)\n",
    "\n",
    "    input_data = loaded_graph.get_tensor_by_name('input:0')\n",
    "    logits = loaded_graph.get_tensor_by_name('logits:0')\n",
    "    keep_prob = loaded_graph.get_tensor_by_name('keep_prob:0')\n",
    "\n",
    "    translate_logits = sess.run(logits, {input_data: [translate_sentence], keep_prob: 1.0})[0]\n",
    "\n",
    "print('Input')\n",
    "print('  Word Ids:      {}'.format([i for i in translate_sentence]))\n",
    "print('  English Words: {}'.format([source_int_to_vocab[i] for i in translate_sentence]))\n",
    "\n",
    "print('\\nPrediction')\n",
    "print('  Word Ids:      {}'.format([i for i in np.argmax(translate_logits, 1)]))\n",
    "print('  French Words: {}'.format([target_int_to_vocab[i] for i in np.argmax(translate_logits, 1)]))"
   ]
  },
  {
   "cell_type": "markdown",
   "metadata": {
    "deletable": true,
    "editable": true
   },
   "source": [
    "## 不完美的翻译\n",
    "\n",
    "你可能注意到了，某些句子的翻译质量比其他的要好。因为你使用的数据集只有 227 个英语单词，但实际生活中有数千个单词，只有使用这些单词的句子结果才会比较理想。对于此项目，不需要达到完美的翻译。但是，如果你想创建更好的翻译模型，则需要更好的数据。\n",
    "\n",
    "你可以使用 [WMT10 French-English corpus](http://www.statmt.org/wmt10/training-giga-fren.tar) 语料库训练模型。该数据集拥有更多的词汇，讨论的话题也更丰富。但是，训练时间要好多天的时间，所以确保你有 GPU 并且对于我们提供的数据集，你的神经网络性能很棒。提交此项目后，别忘了研究下 WMT10 语料库。\n",
    "\n",
    "\n",
    "## 提交项目\n",
    "\n",
    "提交项目时，确保先运行所有单元，然后再保存记事本。保存记事本文件为 “dlnd_language_translation.ipynb”，再通过菜单中的“文件” ->“下载为”将其另存为 HTML 格式。提交的项目文档中需包含“helper.py”和“problem_unittests.py”文件。\n"
   ]
  }
 ],
 "metadata": {
  "kernelspec": {
   "display_name": "Python [conda env:dlnd-tf-lab]",
   "language": "python",
   "name": "conda-env-dlnd-tf-lab-py"
  },
  "language_info": {
   "codemirror_mode": {
    "name": "ipython",
    "version": 3
   },
   "file_extension": ".py",
   "mimetype": "text/x-python",
   "name": "python",
   "nbconvert_exporter": "python",
   "pygments_lexer": "ipython3",
   "version": "3.5.3"
  }
 },
 "nbformat": 4,
 "nbformat_minor": 0
}
